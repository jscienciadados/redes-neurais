{
  "nbformat": 4,
  "nbformat_minor": 0,
  "metadata": {
    "colab": {
      "name": "Deep-Learning-R.ipynb",
      "provenance": []
    },
    "kernelspec": {
      "name": "ir",
      "display_name": "R"
    },
    "language_info": {
      "name": "R"
    }
  },
  "cells": [
    {
      "cell_type": "markdown",
      "metadata": {
        "id": "gdgreUJSCXgO"
      },
      "source": [
        "#<font color=\"blue\">Deep Learning</font>\n",
        "\n",
        "Reconhecimento de Dígitos escritos à mão - Mnist"
      ]
    },
    {
      "cell_type": "code",
      "metadata": {
        "colab": {
          "base_uri": "https://localhost:8080/"
        },
        "id": "-WdfA9x_CM50",
        "outputId": "96c4dfed-1b12-49d2-91f7-613ecb23c61f"
      },
      "source": [
        "install.packages(\"h2o\")\n",
        "library(h2o)"
      ],
      "execution_count": 1,
      "outputs": [
        {
          "output_type": "stream",
          "text": [
            "Installing package into ‘/usr/local/lib/R/site-library’\n",
            "(as ‘lib’ is unspecified)\n",
            "\n",
            "also installing the dependencies ‘bitops’, ‘RCurl’\n",
            "\n",
            "\n",
            "\n",
            "----------------------------------------------------------------------\n",
            "\n",
            "Your next step is to start H2O:\n",
            "    > h2o.init()\n",
            "\n",
            "For H2O package documentation, ask for help:\n",
            "    > ??h2o\n",
            "\n",
            "After starting H2O, you can use the Web UI at http://localhost:54321\n",
            "For more information visit https://docs.h2o.ai\n",
            "\n",
            "----------------------------------------------------------------------\n",
            "\n",
            "\n",
            "\n",
            "Attaching package: ‘h2o’\n",
            "\n",
            "\n",
            "The following objects are masked from ‘package:stats’:\n",
            "\n",
            "    cor, sd, var\n",
            "\n",
            "\n",
            "The following objects are masked from ‘package:base’:\n",
            "\n",
            "    &&, %*%, %in%, ||, apply, as.factor, as.numeric, colnames,\n",
            "    colnames<-, ifelse, is.character, is.factor, is.numeric, log,\n",
            "    log10, log1p, log2, round, signif, trunc\n",
            "\n",
            "\n"
          ],
          "name": "stderr"
        }
      ]
    },
    {
      "cell_type": "markdown",
      "metadata": {
        "id": "UIok8lOBDbXb"
      },
      "source": [
        "Importamos o arquivo para visualização"
      ]
    },
    {
      "cell_type": "code",
      "metadata": {
        "colab": {
          "base_uri": "https://localhost:8080/",
          "height": 300
        },
        "id": "u8gvYVjXCrxl",
        "outputId": "e4fc2c8b-a5f4-4904-9672-3dcf8fd92ac2"
      },
      "source": [
        "#uso interno\n",
        "options(warn=-1)\n",
        "digitos <- read.csv(gzfile(\"dados/test.csv.gz\"), header=F)\n",
        "dim(digitos)\n",
        "head(digitos)"
      ],
      "execution_count": 2,
      "outputs": [
        {
          "output_type": "display_data",
          "data": {
            "text/plain": [
              "[1] 10000   785"
            ],
            "text/latex": "\\begin{enumerate*}\n\\item 10000\n\\item 785\n\\end{enumerate*}\n",
            "text/markdown": "1. 10000\n2. 785\n\n\n",
            "text/html": [
              "<style>\n",
              ".list-inline {list-style: none; margin:0; padding: 0}\n",
              ".list-inline>li {display: inline-block}\n",
              ".list-inline>li:not(:last-child)::after {content: \"\\00b7\"; padding: 0 .5ex}\n",
              "</style>\n",
              "<ol class=list-inline><li>10000</li><li>785</li></ol>\n"
            ]
          },
          "metadata": {
            "tags": []
          }
        },
        {
          "output_type": "display_data",
          "data": {
            "text/plain": [
              "  V1 V2 V3 V4 V5 V6 V7 V8 V9 V10 ⋯ V776 V777 V778 V779 V780 V781 V782 V783 V784\n",
              "1 0  0  0  0  0  0  0  0  0  0   ⋯ 0    0    0    0    0    0    0    0    0   \n",
              "2 0  0  0  0  0  0  0  0  0  0   ⋯ 0    0    0    0    0    0    0    0    0   \n",
              "3 0  0  0  0  0  0  0  0  0  0   ⋯ 0    0    0    0    0    0    0    0    0   \n",
              "4 0  0  0  0  0  0  0  0  0  0   ⋯ 0    0    0    0    0    0    0    0    0   \n",
              "5 0  0  0  0  0  0  0  0  0  0   ⋯ 0    0    0    0    0    0    0    0    0   \n",
              "6 0  0  0  0  0  0  0  0  0  0   ⋯ 0    0    0    0    0    0    0    0    0   \n",
              "  V785\n",
              "1 8   \n",
              "2 3   \n",
              "3 8   \n",
              "4 0   \n",
              "5 1   \n",
              "6 5   "
            ],
            "text/latex": "A data.frame: 6 × 785\n\\begin{tabular}{r|lllllllllllllllllllll}\n  & V1 & V2 & V3 & V4 & V5 & V6 & V7 & V8 & V9 & V10 & ⋯ & V776 & V777 & V778 & V779 & V780 & V781 & V782 & V783 & V784 & V785\\\\\n  & <int> & <int> & <int> & <int> & <int> & <int> & <int> & <int> & <int> & <int> & ⋯ & <int> & <int> & <int> & <int> & <int> & <int> & <int> & <int> & <int> & <int>\\\\\n\\hline\n\t1 & 0 & 0 & 0 & 0 & 0 & 0 & 0 & 0 & 0 & 0 & ⋯ & 0 & 0 & 0 & 0 & 0 & 0 & 0 & 0 & 0 & 8\\\\\n\t2 & 0 & 0 & 0 & 0 & 0 & 0 & 0 & 0 & 0 & 0 & ⋯ & 0 & 0 & 0 & 0 & 0 & 0 & 0 & 0 & 0 & 3\\\\\n\t3 & 0 & 0 & 0 & 0 & 0 & 0 & 0 & 0 & 0 & 0 & ⋯ & 0 & 0 & 0 & 0 & 0 & 0 & 0 & 0 & 0 & 8\\\\\n\t4 & 0 & 0 & 0 & 0 & 0 & 0 & 0 & 0 & 0 & 0 & ⋯ & 0 & 0 & 0 & 0 & 0 & 0 & 0 & 0 & 0 & 0\\\\\n\t5 & 0 & 0 & 0 & 0 & 0 & 0 & 0 & 0 & 0 & 0 & ⋯ & 0 & 0 & 0 & 0 & 0 & 0 & 0 & 0 & 0 & 1\\\\\n\t6 & 0 & 0 & 0 & 0 & 0 & 0 & 0 & 0 & 0 & 0 & ⋯ & 0 & 0 & 0 & 0 & 0 & 0 & 0 & 0 & 0 & 5\\\\\n\\end{tabular}\n",
            "text/markdown": "\nA data.frame: 6 × 785\n\n| <!--/--> | V1 &lt;int&gt; | V2 &lt;int&gt; | V3 &lt;int&gt; | V4 &lt;int&gt; | V5 &lt;int&gt; | V6 &lt;int&gt; | V7 &lt;int&gt; | V8 &lt;int&gt; | V9 &lt;int&gt; | V10 &lt;int&gt; | ⋯ ⋯ | V776 &lt;int&gt; | V777 &lt;int&gt; | V778 &lt;int&gt; | V779 &lt;int&gt; | V780 &lt;int&gt; | V781 &lt;int&gt; | V782 &lt;int&gt; | V783 &lt;int&gt; | V784 &lt;int&gt; | V785 &lt;int&gt; |\n|---|---|---|---|---|---|---|---|---|---|---|---|---|---|---|---|---|---|---|---|---|---|\n| 1 | 0 | 0 | 0 | 0 | 0 | 0 | 0 | 0 | 0 | 0 | ⋯ | 0 | 0 | 0 | 0 | 0 | 0 | 0 | 0 | 0 | 8 |\n| 2 | 0 | 0 | 0 | 0 | 0 | 0 | 0 | 0 | 0 | 0 | ⋯ | 0 | 0 | 0 | 0 | 0 | 0 | 0 | 0 | 0 | 3 |\n| 3 | 0 | 0 | 0 | 0 | 0 | 0 | 0 | 0 | 0 | 0 | ⋯ | 0 | 0 | 0 | 0 | 0 | 0 | 0 | 0 | 0 | 8 |\n| 4 | 0 | 0 | 0 | 0 | 0 | 0 | 0 | 0 | 0 | 0 | ⋯ | 0 | 0 | 0 | 0 | 0 | 0 | 0 | 0 | 0 | 0 |\n| 5 | 0 | 0 | 0 | 0 | 0 | 0 | 0 | 0 | 0 | 0 | ⋯ | 0 | 0 | 0 | 0 | 0 | 0 | 0 | 0 | 0 | 1 |\n| 6 | 0 | 0 | 0 | 0 | 0 | 0 | 0 | 0 | 0 | 0 | ⋯ | 0 | 0 | 0 | 0 | 0 | 0 | 0 | 0 | 0 | 5 |\n\n",
            "text/html": [
              "<table class=\"dataframe\">\n",
              "<caption>A data.frame: 6 × 785</caption>\n",
              "<thead>\n",
              "\t<tr><th></th><th scope=col>V1</th><th scope=col>V2</th><th scope=col>V3</th><th scope=col>V4</th><th scope=col>V5</th><th scope=col>V6</th><th scope=col>V7</th><th scope=col>V8</th><th scope=col>V9</th><th scope=col>V10</th><th scope=col>⋯</th><th scope=col>V776</th><th scope=col>V777</th><th scope=col>V778</th><th scope=col>V779</th><th scope=col>V780</th><th scope=col>V781</th><th scope=col>V782</th><th scope=col>V783</th><th scope=col>V784</th><th scope=col>V785</th></tr>\n",
              "\t<tr><th></th><th scope=col>&lt;int&gt;</th><th scope=col>&lt;int&gt;</th><th scope=col>&lt;int&gt;</th><th scope=col>&lt;int&gt;</th><th scope=col>&lt;int&gt;</th><th scope=col>&lt;int&gt;</th><th scope=col>&lt;int&gt;</th><th scope=col>&lt;int&gt;</th><th scope=col>&lt;int&gt;</th><th scope=col>&lt;int&gt;</th><th scope=col>⋯</th><th scope=col>&lt;int&gt;</th><th scope=col>&lt;int&gt;</th><th scope=col>&lt;int&gt;</th><th scope=col>&lt;int&gt;</th><th scope=col>&lt;int&gt;</th><th scope=col>&lt;int&gt;</th><th scope=col>&lt;int&gt;</th><th scope=col>&lt;int&gt;</th><th scope=col>&lt;int&gt;</th><th scope=col>&lt;int&gt;</th></tr>\n",
              "</thead>\n",
              "<tbody>\n",
              "\t<tr><th scope=row>1</th><td>0</td><td>0</td><td>0</td><td>0</td><td>0</td><td>0</td><td>0</td><td>0</td><td>0</td><td>0</td><td>⋯</td><td>0</td><td>0</td><td>0</td><td>0</td><td>0</td><td>0</td><td>0</td><td>0</td><td>0</td><td>8</td></tr>\n",
              "\t<tr><th scope=row>2</th><td>0</td><td>0</td><td>0</td><td>0</td><td>0</td><td>0</td><td>0</td><td>0</td><td>0</td><td>0</td><td>⋯</td><td>0</td><td>0</td><td>0</td><td>0</td><td>0</td><td>0</td><td>0</td><td>0</td><td>0</td><td>3</td></tr>\n",
              "\t<tr><th scope=row>3</th><td>0</td><td>0</td><td>0</td><td>0</td><td>0</td><td>0</td><td>0</td><td>0</td><td>0</td><td>0</td><td>⋯</td><td>0</td><td>0</td><td>0</td><td>0</td><td>0</td><td>0</td><td>0</td><td>0</td><td>0</td><td>8</td></tr>\n",
              "\t<tr><th scope=row>4</th><td>0</td><td>0</td><td>0</td><td>0</td><td>0</td><td>0</td><td>0</td><td>0</td><td>0</td><td>0</td><td>⋯</td><td>0</td><td>0</td><td>0</td><td>0</td><td>0</td><td>0</td><td>0</td><td>0</td><td>0</td><td>0</td></tr>\n",
              "\t<tr><th scope=row>5</th><td>0</td><td>0</td><td>0</td><td>0</td><td>0</td><td>0</td><td>0</td><td>0</td><td>0</td><td>0</td><td>⋯</td><td>0</td><td>0</td><td>0</td><td>0</td><td>0</td><td>0</td><td>0</td><td>0</td><td>0</td><td>1</td></tr>\n",
              "\t<tr><th scope=row>6</th><td>0</td><td>0</td><td>0</td><td>0</td><td>0</td><td>0</td><td>0</td><td>0</td><td>0</td><td>0</td><td>⋯</td><td>0</td><td>0</td><td>0</td><td>0</td><td>0</td><td>0</td><td>0</td><td>0</td><td>0</td><td>5</td></tr>\n",
              "</tbody>\n",
              "</table>\n"
            ]
          },
          "metadata": {
            "tags": []
          }
        }
      ]
    },
    {
      "cell_type": "markdown",
      "metadata": {
        "id": "aIAZ8WYXDteo"
      },
      "source": [
        "Visualizamos alguns digitos"
      ]
    },
    {
      "cell_type": "code",
      "metadata": {
        "id": "Nrbf3J-4DlAL"
      },
      "source": [
        "dig1 = t(matrix(unlist(digitos[20,-785]), nrow = 28, byrow = F))\n",
        "dig1 = t(apply(dig1, 2, rev))\n",
        "\n",
        "#digitos[20,785]"
      ],
      "execution_count": 5,
      "outputs": []
    },
    {
      "cell_type": "code",
      "metadata": {
        "colab": {
          "base_uri": "https://localhost:8080/",
          "height": 34
        },
        "id": "f7Y7ht5-EABK",
        "outputId": "dd26f01f-33ae-4057-d061-6df832a5f282"
      },
      "source": [
        "#dig1\n",
        "digitos[20,785]"
      ],
      "execution_count": 7,
      "outputs": [
        {
          "output_type": "display_data",
          "data": {
            "text/plain": [
              "[1] 9"
            ],
            "text/latex": "9",
            "text/markdown": "9",
            "text/html": [
              "9"
            ]
          },
          "metadata": {
            "tags": []
          }
        }
      ]
    },
    {
      "cell_type": "code",
      "metadata": {
        "id": "VNtdnDuOETvC"
      },
      "source": [
        "dig2 = t(matrix(unlist(digitos[2,-785]), nrow = 28, byrow = F))\n",
        "dig2 = t(apply(dig2, 2, rev))"
      ],
      "execution_count": 8,
      "outputs": []
    },
    {
      "cell_type": "code",
      "metadata": {
        "id": "O7VlINKcEkZd"
      },
      "source": [
        "dig3 = t(matrix(unlist(digitos[4,-785]), nrow = 28, byrow = F))\n",
        "dig3 = t(apply(dig3, 2, rev))\n",
        "\n",
        "dig4 = t(matrix(unlist(digitos[5,-785]), nrow = 28, byrow = F))\n",
        "dig4 = t(apply(dig4, 2, rev))"
      ],
      "execution_count": 9,
      "outputs": []
    },
    {
      "cell_type": "markdown",
      "metadata": {
        "id": "UmB6c_vgEyo3"
      },
      "source": [
        "Visualizamos as imagens"
      ]
    },
    {
      "cell_type": "code",
      "metadata": {
        "colab": {
          "base_uri": "https://localhost:8080/",
          "height": 1000
        },
        "id": "xgJEAFMtEveN",
        "outputId": "b39c1c99-551d-40af-bc77-ea760b1bdb80"
      },
      "source": [
        "image(dig1, col = grey.colors(255))\n",
        "image(dig2,col=grey.colors(255))\n",
        "image(dig3,col=grey.colors(255))\n",
        "image(dig4,col=grey.colors(255))"
      ],
      "execution_count": 10,
      "outputs": [
        {
          "output_type": "display_data",
          "data": {
            "image/png": "[encoded data removed]",
            "text/plain": [
              "plot without title"
            ]
          },
          "metadata": {
            "tags": [],
            "image/png": {
              "width": 420,
              "height": 420
            }
          }
        },
        {
          "output_type": "display_data",
          "data": {
            "image/png": "[encoded data removed]",
            "text/plain": [
              "plot without title"
            ]
          },
          "metadata": {
            "tags": [],
            "image/png": {
              "width": 420,
              "height": 420
            }
          }
        },
        {
          "output_type": "display_data",
          "data": {
            "image/png": "[encoded data removed]",
            "text/plain": [
              "plot without title"
            ]
          },
          "metadata": {
            "tags": [],
            "image/png": {
              "width": 420,
              "height": 420
            }
          }
        },
        {
          "output_type": "display_data",
          "data": {
            "image/png": "[encoded data removed]",
            "text/plain": [
              "plot without title"
            ]
          },
          "metadata": {
            "tags": [],
            "image/png": {
              "width": 420,
              "height": 420
            }
          }
        }
      ]
    },
    {
      "cell_type": "markdown",
      "metadata": {
        "id": "yc9KMs3oE9tF"
      },
      "source": [
        "Inicialização do h2o"
      ]
    },
    {
      "cell_type": "code",
      "metadata": {
        "colab": {
          "base_uri": "https://localhost:8080/",
          "height": 1000
        },
        "id": "XXtUsK2CE4ry",
        "outputId": "673dfddf-c254-413c-da94-485f31750aca"
      },
      "source": [
        "h2o.init()\n",
        "treino <- h2o.importFile('dados/train.csv.gz')\n",
        "teste <- h2o.importFile('dados/test.csv.gz')\n",
        "dim(treino)\n",
        "head(treino)\n",
        "colnames(treino)\n",
        "#transforma a classe em fator\n",
        "treino[,785] <- as.factor(treino[,785])\n",
        "teste[,785] <- as.factor(teste[,785])"
      ],
      "execution_count": 11,
      "outputs": [
        {
          "output_type": "stream",
          "text": [
            "\n",
            "H2O is not running yet, starting it now...\n",
            "\n",
            "Note:  In case of errors look at the following log files:\n",
            "    /tmp/Rtmpvr8hHc/file3beec6b/h2o_UnknownUser_started_from_r.out\n",
            "    /tmp/Rtmpvr8hHc/file3b68f2bea5/h2o_UnknownUser_started_from_r.err\n",
            "\n",
            "\n",
            "Starting H2O JVM and connecting: .... Connection successful!\n",
            "\n",
            "R is connected to the H2O cluster: \n",
            "    H2O cluster uptime:         3 seconds 681 milliseconds \n",
            "    H2O cluster timezone:       Etc/UTC \n",
            "    H2O data parsing timezone:  UTC \n",
            "    H2O cluster version:        3.32.1.2 \n",
            "    H2O cluster version age:    7 days, 1 hour and 53 minutes  \n",
            "    H2O cluster name:           H2O_started_from_R_root_zal615 \n",
            "    H2O cluster total nodes:    1 \n",
            "    H2O cluster total memory:   3.18 GB \n",
            "    H2O cluster total cores:    2 \n",
            "    H2O cluster allowed cores:  2 \n",
            "    H2O cluster healthy:        TRUE \n",
            "    H2O Connection ip:          localhost \n",
            "    H2O Connection port:        54321 \n",
            "    H2O Connection proxy:       NA \n",
            "    H2O Internal Security:      FALSE \n",
            "    H2O API Extensions:         Amazon S3, XGBoost, Algos, AutoML, Core V3, TargetEncoder, Core V4 \n",
            "    R Version:                  R version 4.0.5 (2021-03-31) \n",
            "\n",
            "  |======================================================================| 100%\n",
            "  |======================================================================| 100%\n"
          ],
          "name": "stdout"
        },
        {
          "output_type": "display_data",
          "data": {
            "text/plain": [
              "[1] 60000   785"
            ],
            "text/latex": "\\begin{enumerate*}\n\\item 60000\n\\item 785\n\\end{enumerate*}\n",
            "text/markdown": "1. 60000\n2. 785\n\n\n",
            "text/html": [
              "<style>\n",
              ".list-inline {list-style: none; margin:0; padding: 0}\n",
              ".list-inline>li {display: inline-block}\n",
              ".list-inline>li:not(:last-child)::after {content: \"\\00b7\"; padding: 0 .5ex}\n",
              "</style>\n",
              "<ol class=list-inline><li>60000</li><li>785</li></ol>\n"
            ]
          },
          "metadata": {
            "tags": []
          }
        },
        {
          "output_type": "display_data",
          "data": {
            "text/plain": [
              "  C1 C2 C3 C4 C5 C6 C7 C8 C9 C10 ⋯ C191 C192 C193 C194 C195 C196 C197 C198 C199\n",
              "1 0  0  0  0  0  0  0  0  0  0   ⋯ 0    0    0    0    0    0    0    0    0   \n",
              "2 0  0  0  0  0  0  0  0  0  0   ⋯ 0    0    0    0    0    0    0    0    0   \n",
              "3 0  0  0  0  0  0  0  0  0  0   ⋯ 0    0    0    0    0    0    0    0    0   \n",
              "4 0  0  0  0  0  0  0  0  0  0   ⋯ 0    0    0    0    0    0    0    0    0   \n",
              "5 0  0  0  0  0  0  0  0  0  0   ⋯ 0    0    0    0    0    0    0    0    0   \n",
              "6 0  0  0  0  0  0  0  0  0  0   ⋯ 0    0    0    0    0    0    0    0    0   \n",
              "  C200\n",
              "1 0   \n",
              "2 0   \n",
              "3 0   \n",
              "4 0   \n",
              "5 0   \n",
              "6 0   "
            ],
            "text/latex": "A data.frame: 6 × 200\n\\begin{tabular}{r|lllllllllllllllllllll}\n  & C1 & C2 & C3 & C4 & C5 & C6 & C7 & C8 & C9 & C10 & ⋯ & C191 & C192 & C193 & C194 & C195 & C196 & C197 & C198 & C199 & C200\\\\\n  & <dbl> & <dbl> & <dbl> & <dbl> & <dbl> & <dbl> & <dbl> & <dbl> & <dbl> & <dbl> & ⋯ & <dbl> & <dbl> & <dbl> & <dbl> & <dbl> & <dbl> & <dbl> & <dbl> & <dbl> & <dbl>\\\\\n\\hline\n\t1 & 0 & 0 & 0 & 0 & 0 & 0 & 0 & 0 & 0 & 0 & ⋯ & 0 & 0 & 0 & 0 & 0 & 0 & 0 & 0 & 0 & 0\\\\\n\t2 & 0 & 0 & 0 & 0 & 0 & 0 & 0 & 0 & 0 & 0 & ⋯ & 0 & 0 & 0 & 0 & 0 & 0 & 0 & 0 & 0 & 0\\\\\n\t3 & 0 & 0 & 0 & 0 & 0 & 0 & 0 & 0 & 0 & 0 & ⋯ & 0 & 0 & 0 & 0 & 0 & 0 & 0 & 0 & 0 & 0\\\\\n\t4 & 0 & 0 & 0 & 0 & 0 & 0 & 0 & 0 & 0 & 0 & ⋯ & 0 & 0 & 0 & 0 & 0 & 0 & 0 & 0 & 0 & 0\\\\\n\t5 & 0 & 0 & 0 & 0 & 0 & 0 & 0 & 0 & 0 & 0 & ⋯ & 0 & 0 & 0 & 0 & 0 & 0 & 0 & 0 & 0 & 0\\\\\n\t6 & 0 & 0 & 0 & 0 & 0 & 0 & 0 & 0 & 0 & 0 & ⋯ & 0 & 0 & 0 & 0 & 0 & 0 & 0 & 0 & 0 & 0\\\\\n\\end{tabular}\n",
            "text/markdown": "\nA data.frame: 6 × 200\n\n| <!--/--> | C1 &lt;dbl&gt; | C2 &lt;dbl&gt; | C3 &lt;dbl&gt; | C4 &lt;dbl&gt; | C5 &lt;dbl&gt; | C6 &lt;dbl&gt; | C7 &lt;dbl&gt; | C8 &lt;dbl&gt; | C9 &lt;dbl&gt; | C10 &lt;dbl&gt; | ⋯ ⋯ | C191 &lt;dbl&gt; | C192 &lt;dbl&gt; | C193 &lt;dbl&gt; | C194 &lt;dbl&gt; | C195 &lt;dbl&gt; | C196 &lt;dbl&gt; | C197 &lt;dbl&gt; | C198 &lt;dbl&gt; | C199 &lt;dbl&gt; | C200 &lt;dbl&gt; |\n|---|---|---|---|---|---|---|---|---|---|---|---|---|---|---|---|---|---|---|---|---|---|\n| 1 | 0 | 0 | 0 | 0 | 0 | 0 | 0 | 0 | 0 | 0 | ⋯ | 0 | 0 | 0 | 0 | 0 | 0 | 0 | 0 | 0 | 0 |\n| 2 | 0 | 0 | 0 | 0 | 0 | 0 | 0 | 0 | 0 | 0 | ⋯ | 0 | 0 | 0 | 0 | 0 | 0 | 0 | 0 | 0 | 0 |\n| 3 | 0 | 0 | 0 | 0 | 0 | 0 | 0 | 0 | 0 | 0 | ⋯ | 0 | 0 | 0 | 0 | 0 | 0 | 0 | 0 | 0 | 0 |\n| 4 | 0 | 0 | 0 | 0 | 0 | 0 | 0 | 0 | 0 | 0 | ⋯ | 0 | 0 | 0 | 0 | 0 | 0 | 0 | 0 | 0 | 0 |\n| 5 | 0 | 0 | 0 | 0 | 0 | 0 | 0 | 0 | 0 | 0 | ⋯ | 0 | 0 | 0 | 0 | 0 | 0 | 0 | 0 | 0 | 0 |\n| 6 | 0 | 0 | 0 | 0 | 0 | 0 | 0 | 0 | 0 | 0 | ⋯ | 0 | 0 | 0 | 0 | 0 | 0 | 0 | 0 | 0 | 0 |\n\n",
            "text/html": [
              "<table class=\"dataframe\">\n",
              "<caption>A data.frame: 6 × 200</caption>\n",
              "<thead>\n",
              "\t<tr><th></th><th scope=col>C1</th><th scope=col>C2</th><th scope=col>C3</th><th scope=col>C4</th><th scope=col>C5</th><th scope=col>C6</th><th scope=col>C7</th><th scope=col>C8</th><th scope=col>C9</th><th scope=col>C10</th><th scope=col>⋯</th><th scope=col>C191</th><th scope=col>C192</th><th scope=col>C193</th><th scope=col>C194</th><th scope=col>C195</th><th scope=col>C196</th><th scope=col>C197</th><th scope=col>C198</th><th scope=col>C199</th><th scope=col>C200</th></tr>\n",
              "\t<tr><th></th><th scope=col>&lt;dbl&gt;</th><th scope=col>&lt;dbl&gt;</th><th scope=col>&lt;dbl&gt;</th><th scope=col>&lt;dbl&gt;</th><th scope=col>&lt;dbl&gt;</th><th scope=col>&lt;dbl&gt;</th><th scope=col>&lt;dbl&gt;</th><th scope=col>&lt;dbl&gt;</th><th scope=col>&lt;dbl&gt;</th><th scope=col>&lt;dbl&gt;</th><th scope=col>⋯</th><th scope=col>&lt;dbl&gt;</th><th scope=col>&lt;dbl&gt;</th><th scope=col>&lt;dbl&gt;</th><th scope=col>&lt;dbl&gt;</th><th scope=col>&lt;dbl&gt;</th><th scope=col>&lt;dbl&gt;</th><th scope=col>&lt;dbl&gt;</th><th scope=col>&lt;dbl&gt;</th><th scope=col>&lt;dbl&gt;</th><th scope=col>&lt;dbl&gt;</th></tr>\n",
              "</thead>\n",
              "<tbody>\n",
              "\t<tr><th scope=row>1</th><td>0</td><td>0</td><td>0</td><td>0</td><td>0</td><td>0</td><td>0</td><td>0</td><td>0</td><td>0</td><td>⋯</td><td>0</td><td>0</td><td>0</td><td>0</td><td>0</td><td>0</td><td>0</td><td>0</td><td>0</td><td>0</td></tr>\n",
              "\t<tr><th scope=row>2</th><td>0</td><td>0</td><td>0</td><td>0</td><td>0</td><td>0</td><td>0</td><td>0</td><td>0</td><td>0</td><td>⋯</td><td>0</td><td>0</td><td>0</td><td>0</td><td>0</td><td>0</td><td>0</td><td>0</td><td>0</td><td>0</td></tr>\n",
              "\t<tr><th scope=row>3</th><td>0</td><td>0</td><td>0</td><td>0</td><td>0</td><td>0</td><td>0</td><td>0</td><td>0</td><td>0</td><td>⋯</td><td>0</td><td>0</td><td>0</td><td>0</td><td>0</td><td>0</td><td>0</td><td>0</td><td>0</td><td>0</td></tr>\n",
              "\t<tr><th scope=row>4</th><td>0</td><td>0</td><td>0</td><td>0</td><td>0</td><td>0</td><td>0</td><td>0</td><td>0</td><td>0</td><td>⋯</td><td>0</td><td>0</td><td>0</td><td>0</td><td>0</td><td>0</td><td>0</td><td>0</td><td>0</td><td>0</td></tr>\n",
              "\t<tr><th scope=row>5</th><td>0</td><td>0</td><td>0</td><td>0</td><td>0</td><td>0</td><td>0</td><td>0</td><td>0</td><td>0</td><td>⋯</td><td>0</td><td>0</td><td>0</td><td>0</td><td>0</td><td>0</td><td>0</td><td>0</td><td>0</td><td>0</td></tr>\n",
              "\t<tr><th scope=row>6</th><td>0</td><td>0</td><td>0</td><td>0</td><td>0</td><td>0</td><td>0</td><td>0</td><td>0</td><td>0</td><td>⋯</td><td>0</td><td>0</td><td>0</td><td>0</td><td>0</td><td>0</td><td>0</td><td>0</td><td>0</td><td>0</td></tr>\n",
              "</tbody>\n",
              "</table>\n"
            ]
          },
          "metadata": {
            "tags": []
          }
        },
        {
          "output_type": "display_data",
          "data": {
            "text/plain": [
              "  [1] \"C1\"   \"C2\"   \"C3\"   \"C4\"   \"C5\"   \"C6\"   \"C7\"   \"C8\"   \"C9\"   \"C10\" \n",
              " [11] \"C11\"  \"C12\"  \"C13\"  \"C14\"  \"C15\"  \"C16\"  \"C17\"  \"C18\"  \"C19\"  \"C20\" \n",
              " [21] \"C21\"  \"C22\"  \"C23\"  \"C24\"  \"C25\"  \"C26\"  \"C27\"  \"C28\"  \"C29\"  \"C30\" \n",
              " [31] \"C31\"  \"C32\"  \"C33\"  \"C34\"  \"C35\"  \"C36\"  \"C37\"  \"C38\"  \"C39\"  \"C40\" \n",
              " [41] \"C41\"  \"C42\"  \"C43\"  \"C44\"  \"C45\"  \"C46\"  \"C47\"  \"C48\"  \"C49\"  \"C50\" \n",
              " [51] \"C51\"  \"C52\"  \"C53\"  \"C54\"  \"C55\"  \"C56\"  \"C57\"  \"C58\"  \"C59\"  \"C60\" \n",
              " [61] \"C61\"  \"C62\"  \"C63\"  \"C64\"  \"C65\"  \"C66\"  \"C67\"  \"C68\"  \"C69\"  \"C70\" \n",
              " [71] \"C71\"  \"C72\"  \"C73\"  \"C74\"  \"C75\"  \"C76\"  \"C77\"  \"C78\"  \"C79\"  \"C80\" \n",
              " [81] \"C81\"  \"C82\"  \"C83\"  \"C84\"  \"C85\"  \"C86\"  \"C87\"  \"C88\"  \"C89\"  \"C90\" \n",
              " [91] \"C91\"  \"C92\"  \"C93\"  \"C94\"  \"C95\"  \"C96\"  \"C97\"  \"C98\"  \"C99\"  \"C100\"\n",
              "[101] \"C101\" \"C102\" \"C103\" \"C104\" \"C105\" \"C106\" \"C107\" \"C108\" \"C109\" \"C110\"\n",
              "[111] \"C111\" \"C112\" \"C113\" \"C114\" \"C115\" \"C116\" \"C117\" \"C118\" \"C119\" \"C120\"\n",
              "[121] \"C121\" \"C122\" \"C123\" \"C124\" \"C125\" \"C126\" \"C127\" \"C128\" \"C129\" \"C130\"\n",
              "[131] \"C131\" \"C132\" \"C133\" \"C134\" \"C135\" \"C136\" \"C137\" \"C138\" \"C139\" \"C140\"\n",
              "[141] \"C141\" \"C142\" \"C143\" \"C144\" \"C145\" \"C146\" \"C147\" \"C148\" \"C149\" \"C150\"\n",
              "[151] \"C151\" \"C152\" \"C153\" \"C154\" \"C155\" \"C156\" \"C157\" \"C158\" \"C159\" \"C160\"\n",
              "[161] \"C161\" \"C162\" \"C163\" \"C164\" \"C165\" \"C166\" \"C167\" \"C168\" \"C169\" \"C170\"\n",
              "[171] \"C171\" \"C172\" \"C173\" \"C174\" \"C175\" \"C176\" \"C177\" \"C178\" \"C179\" \"C180\"\n",
              "[181] \"C181\" \"C182\" \"C183\" \"C184\" \"C185\" \"C186\" \"C187\" \"C188\" \"C189\" \"C190\"\n",
              "[191] \"C191\" \"C192\" \"C193\" \"C194\" \"C195\" \"C196\" \"C197\" \"C198\" \"C199\" \"C200\"\n",
              "[201] \"C201\" \"C202\" \"C203\" \"C204\" \"C205\" \"C206\" \"C207\" \"C208\" \"C209\" \"C210\"\n",
              "[211] \"C211\" \"C212\" \"C213\" \"C214\" \"C215\" \"C216\" \"C217\" \"C218\" \"C219\" \"C220\"\n",
              "[221] \"C221\" \"C222\" \"C223\" \"C224\" \"C225\" \"C226\" \"C227\" \"C228\" \"C229\" \"C230\"\n",
              "[231] \"C231\" \"C232\" \"C233\" \"C234\" \"C235\" \"C236\" \"C237\" \"C238\" \"C239\" \"C240\"\n",
              "[241] \"C241\" \"C242\" \"C243\" \"C244\" \"C245\" \"C246\" \"C247\" \"C248\" \"C249\" \"C250\"\n",
              "[251] \"C251\" \"C252\" \"C253\" \"C254\" \"C255\" \"C256\" \"C257\" \"C258\" \"C259\" \"C260\"\n",
              "[261] \"C261\" \"C262\" \"C263\" \"C264\" \"C265\" \"C266\" \"C267\" \"C268\" \"C269\" \"C270\"\n",
              "[271] \"C271\" \"C272\" \"C273\" \"C274\" \"C275\" \"C276\" \"C277\" \"C278\" \"C279\" \"C280\"\n",
              "[281] \"C281\" \"C282\" \"C283\" \"C284\" \"C285\" \"C286\" \"C287\" \"C288\" \"C289\" \"C290\"\n",
              "[291] \"C291\" \"C292\" \"C293\" \"C294\" \"C295\" \"C296\" \"C297\" \"C298\" \"C299\" \"C300\"\n",
              "[301] \"C301\" \"C302\" \"C303\" \"C304\" \"C305\" \"C306\" \"C307\" \"C308\" \"C309\" \"C310\"\n",
              "[311] \"C311\" \"C312\" \"C313\" \"C314\" \"C315\" \"C316\" \"C317\" \"C318\" \"C319\" \"C320\"\n",
              "[321] \"C321\" \"C322\" \"C323\" \"C324\" \"C325\" \"C326\" \"C327\" \"C328\" \"C329\" \"C330\"\n",
              "[331] \"C331\" \"C332\" \"C333\" \"C334\" \"C335\" \"C336\" \"C337\" \"C338\" \"C339\" \"C340\"\n",
              "[341] \"C341\" \"C342\" \"C343\" \"C344\" \"C345\" \"C346\" \"C347\" \"C348\" \"C349\" \"C350\"\n",
              "[351] \"C351\" \"C352\" \"C353\" \"C354\" \"C355\" \"C356\" \"C357\" \"C358\" \"C359\" \"C360\"\n",
              "[361] \"C361\" \"C362\" \"C363\" \"C364\" \"C365\" \"C366\" \"C367\" \"C368\" \"C369\" \"C370\"\n",
              "[371] \"C371\" \"C372\" \"C373\" \"C374\" \"C375\" \"C376\" \"C377\" \"C378\" \"C379\" \"C380\"\n",
              "[381] \"C381\" \"C382\" \"C383\" \"C384\" \"C385\" \"C386\" \"C387\" \"C388\" \"C389\" \"C390\"\n",
              "[391] \"C391\" \"C392\" \"C393\" \"C394\" \"C395\" \"C396\" \"C397\" \"C398\" \"C399\" \"C400\"\n",
              "[401] \"C401\" \"C402\" \"C403\" \"C404\" \"C405\" \"C406\" \"C407\" \"C408\" \"C409\" \"C410\"\n",
              "[411] \"C411\" \"C412\" \"C413\" \"C414\" \"C415\" \"C416\" \"C417\" \"C418\" \"C419\" \"C420\"\n",
              "[421] \"C421\" \"C422\" \"C423\" \"C424\" \"C425\" \"C426\" \"C427\" \"C428\" \"C429\" \"C430\"\n",
              "[431] \"C431\" \"C432\" \"C433\" \"C434\" \"C435\" \"C436\" \"C437\" \"C438\" \"C439\" \"C440\"\n",
              "[441] \"C441\" \"C442\" \"C443\" \"C444\" \"C445\" \"C446\" \"C447\" \"C448\" \"C449\" \"C450\"\n",
              "[451] \"C451\" \"C452\" \"C453\" \"C454\" \"C455\" \"C456\" \"C457\" \"C458\" \"C459\" \"C460\"\n",
              "[461] \"C461\" \"C462\" \"C463\" \"C464\" \"C465\" \"C466\" \"C467\" \"C468\" \"C469\" \"C470\"\n",
              "[471] \"C471\" \"C472\" \"C473\" \"C474\" \"C475\" \"C476\" \"C477\" \"C478\" \"C479\" \"C480\"\n",
              "[481] \"C481\" \"C482\" \"C483\" \"C484\" \"C485\" \"C486\" \"C487\" \"C488\" \"C489\" \"C490\"\n",
              "[491] \"C491\" \"C492\" \"C493\" \"C494\" \"C495\" \"C496\" \"C497\" \"C498\" \"C499\" \"C500\"\n",
              "[501] \"C501\" \"C502\" \"C503\" \"C504\" \"C505\" \"C506\" \"C507\" \"C508\" \"C509\" \"C510\"\n",
              "[511] \"C511\" \"C512\" \"C513\" \"C514\" \"C515\" \"C516\" \"C517\" \"C518\" \"C519\" \"C520\"\n",
              "[521] \"C521\" \"C522\" \"C523\" \"C524\" \"C525\" \"C526\" \"C527\" \"C528\" \"C529\" \"C530\"\n",
              "[531] \"C531\" \"C532\" \"C533\" \"C534\" \"C535\" \"C536\" \"C537\" \"C538\" \"C539\" \"C540\"\n",
              "[541] \"C541\" \"C542\" \"C543\" \"C544\" \"C545\" \"C546\" \"C547\" \"C548\" \"C549\" \"C550\"\n",
              "[551] \"C551\" \"C552\" \"C553\" \"C554\" \"C555\" \"C556\" \"C557\" \"C558\" \"C559\" \"C560\"\n",
              "[561] \"C561\" \"C562\" \"C563\" \"C564\" \"C565\" \"C566\" \"C567\" \"C568\" \"C569\" \"C570\"\n",
              "[571] \"C571\" \"C572\" \"C573\" \"C574\" \"C575\" \"C576\" \"C577\" \"C578\" \"C579\" \"C580\"\n",
              "[581] \"C581\" \"C582\" \"C583\" \"C584\" \"C585\" \"C586\" \"C587\" \"C588\" \"C589\" \"C590\"\n",
              "[591] \"C591\" \"C592\" \"C593\" \"C594\" \"C595\" \"C596\" \"C597\" \"C598\" \"C599\" \"C600\"\n",
              "[601] \"C601\" \"C602\" \"C603\" \"C604\" \"C605\" \"C606\" \"C607\" \"C608\" \"C609\" \"C610\"\n",
              "[611] \"C611\" \"C612\" \"C613\" \"C614\" \"C615\" \"C616\" \"C617\" \"C618\" \"C619\" \"C620\"\n",
              "[621] \"C621\" \"C622\" \"C623\" \"C624\" \"C625\" \"C626\" \"C627\" \"C628\" \"C629\" \"C630\"\n",
              "[631] \"C631\" \"C632\" \"C633\" \"C634\" \"C635\" \"C636\" \"C637\" \"C638\" \"C639\" \"C640\"\n",
              "[641] \"C641\" \"C642\" \"C643\" \"C644\" \"C645\" \"C646\" \"C647\" \"C648\" \"C649\" \"C650\"\n",
              "[651] \"C651\" \"C652\" \"C653\" \"C654\" \"C655\" \"C656\" \"C657\" \"C658\" \"C659\" \"C660\"\n",
              "[661] \"C661\" \"C662\" \"C663\" \"C664\" \"C665\" \"C666\" \"C667\" \"C668\" \"C669\" \"C670\"\n",
              "[671] \"C671\" \"C672\" \"C673\" \"C674\" \"C675\" \"C676\" \"C677\" \"C678\" \"C679\" \"C680\"\n",
              "[681] \"C681\" \"C682\" \"C683\" \"C684\" \"C685\" \"C686\" \"C687\" \"C688\" \"C689\" \"C690\"\n",
              "[691] \"C691\" \"C692\" \"C693\" \"C694\" \"C695\" \"C696\" \"C697\" \"C698\" \"C699\" \"C700\"\n",
              "[701] \"C701\" \"C702\" \"C703\" \"C704\" \"C705\" \"C706\" \"C707\" \"C708\" \"C709\" \"C710\"\n",
              "[711] \"C711\" \"C712\" \"C713\" \"C714\" \"C715\" \"C716\" \"C717\" \"C718\" \"C719\" \"C720\"\n",
              "[721] \"C721\" \"C722\" \"C723\" \"C724\" \"C725\" \"C726\" \"C727\" \"C728\" \"C729\" \"C730\"\n",
              "[731] \"C731\" \"C732\" \"C733\" \"C734\" \"C735\" \"C736\" \"C737\" \"C738\" \"C739\" \"C740\"\n",
              "[741] \"C741\" \"C742\" \"C743\" \"C744\" \"C745\" \"C746\" \"C747\" \"C748\" \"C749\" \"C750\"\n",
              "[751] \"C751\" \"C752\" \"C753\" \"C754\" \"C755\" \"C756\" \"C757\" \"C758\" \"C759\" \"C760\"\n",
              "[761] \"C761\" \"C762\" \"C763\" \"C764\" \"C765\" \"C766\" \"C767\" \"C768\" \"C769\" \"C770\"\n",
              "[771] \"C771\" \"C772\" \"C773\" \"C774\" \"C775\" \"C776\" \"C777\" \"C778\" \"C779\" \"C780\"\n",
              "[781] \"C781\" \"C782\" \"C783\" \"C784\" \"C785\""
            ],
            "text/latex": "\\begin{enumerate*}\n\\item 'C1'\n\\item 'C2'\n\\item 'C3'\n\\item 'C4'\n\\item 'C5'\n\\item 'C6'\n\\item 'C7'\n\\item 'C8'\n\\item 'C9'\n\\item 'C10'\n\\item 'C11'\n\\item 'C12'\n\\item 'C13'\n\\item 'C14'\n\\item 'C15'\n\\item 'C16'\n\\item 'C17'\n\\item 'C18'\n\\item 'C19'\n\\item 'C20'\n\\item 'C21'\n\\item 'C22'\n\\item 'C23'\n\\item 'C24'\n\\item 'C25'\n\\item 'C26'\n\\item 'C27'\n\\item 'C28'\n\\item 'C29'\n\\item 'C30'\n\\item 'C31'\n\\item 'C32'\n\\item 'C33'\n\\item 'C34'\n\\item 'C35'\n\\item 'C36'\n\\item 'C37'\n\\item 'C38'\n\\item 'C39'\n\\item 'C40'\n\\item 'C41'\n\\item 'C42'\n\\item 'C43'\n\\item 'C44'\n\\item 'C45'\n\\item 'C46'\n\\item 'C47'\n\\item 'C48'\n\\item 'C49'\n\\item 'C50'\n\\item 'C51'\n\\item 'C52'\n\\item 'C53'\n\\item 'C54'\n\\item 'C55'\n\\item 'C56'\n\\item 'C57'\n\\item 'C58'\n\\item 'C59'\n\\item 'C60'\n\\item 'C61'\n\\item 'C62'\n\\item 'C63'\n\\item 'C64'\n\\item 'C65'\n\\item 'C66'\n\\item 'C67'\n\\item 'C68'\n\\item 'C69'\n\\item 'C70'\n\\item 'C71'\n\\item 'C72'\n\\item 'C73'\n\\item 'C74'\n\\item 'C75'\n\\item 'C76'\n\\item 'C77'\n\\item 'C78'\n\\item 'C79'\n\\item 'C80'\n\\item 'C81'\n\\item 'C82'\n\\item 'C83'\n\\item 'C84'\n\\item 'C85'\n\\item 'C86'\n\\item 'C87'\n\\item 'C88'\n\\item 'C89'\n\\item 'C90'\n\\item 'C91'\n\\item 'C92'\n\\item 'C93'\n\\item 'C94'\n\\item 'C95'\n\\item 'C96'\n\\item 'C97'\n\\item 'C98'\n\\item 'C99'\n\\item 'C100'\n\\item 'C101'\n\\item 'C102'\n\\item 'C103'\n\\item 'C104'\n\\item 'C105'\n\\item 'C106'\n\\item 'C107'\n\\item 'C108'\n\\item 'C109'\n\\item 'C110'\n\\item 'C111'\n\\item 'C112'\n\\item 'C113'\n\\item 'C114'\n\\item 'C115'\n\\item 'C116'\n\\item 'C117'\n\\item 'C118'\n\\item 'C119'\n\\item 'C120'\n\\item 'C121'\n\\item 'C122'\n\\item 'C123'\n\\item 'C124'\n\\item 'C125'\n\\item 'C126'\n\\item 'C127'\n\\item 'C128'\n\\item 'C129'\n\\item 'C130'\n\\item 'C131'\n\\item 'C132'\n\\item 'C133'\n\\item 'C134'\n\\item 'C135'\n\\item 'C136'\n\\item 'C137'\n\\item 'C138'\n\\item 'C139'\n\\item 'C140'\n\\item 'C141'\n\\item 'C142'\n\\item 'C143'\n\\item 'C144'\n\\item 'C145'\n\\item 'C146'\n\\item 'C147'\n\\item 'C148'\n\\item 'C149'\n\\item 'C150'\n\\item 'C151'\n\\item 'C152'\n\\item 'C153'\n\\item 'C154'\n\\item 'C155'\n\\item 'C156'\n\\item 'C157'\n\\item 'C158'\n\\item 'C159'\n\\item 'C160'\n\\item 'C161'\n\\item 'C162'\n\\item 'C163'\n\\item 'C164'\n\\item 'C165'\n\\item 'C166'\n\\item 'C167'\n\\item 'C168'\n\\item 'C169'\n\\item 'C170'\n\\item 'C171'\n\\item 'C172'\n\\item 'C173'\n\\item 'C174'\n\\item 'C175'\n\\item 'C176'\n\\item 'C177'\n\\item 'C178'\n\\item 'C179'\n\\item 'C180'\n\\item 'C181'\n\\item 'C182'\n\\item 'C183'\n\\item 'C184'\n\\item 'C185'\n\\item 'C186'\n\\item 'C187'\n\\item 'C188'\n\\item 'C189'\n\\item 'C190'\n\\item 'C191'\n\\item 'C192'\n\\item 'C193'\n\\item 'C194'\n\\item 'C195'\n\\item 'C196'\n\\item 'C197'\n\\item 'C198'\n\\item 'C199'\n\\item 'C200'\n\\item ⋯\n\\item 'C586'\n\\item 'C587'\n\\item 'C588'\n\\item 'C589'\n\\item 'C590'\n\\item 'C591'\n\\item 'C592'\n\\item 'C593'\n\\item 'C594'\n\\item 'C595'\n\\item 'C596'\n\\item 'C597'\n\\item 'C598'\n\\item 'C599'\n\\item 'C600'\n\\item 'C601'\n\\item 'C602'\n\\item 'C603'\n\\item 'C604'\n\\item 'C605'\n\\item 'C606'\n\\item 'C607'\n\\item 'C608'\n\\item 'C609'\n\\item 'C610'\n\\item 'C611'\n\\item 'C612'\n\\item 'C613'\n\\item 'C614'\n\\item 'C615'\n\\item 'C616'\n\\item 'C617'\n\\item 'C618'\n\\item 'C619'\n\\item 'C620'\n\\item 'C621'\n\\item 'C622'\n\\item 'C623'\n\\item 'C624'\n\\item 'C625'\n\\item 'C626'\n\\item 'C627'\n\\item 'C628'\n\\item 'C629'\n\\item 'C630'\n\\item 'C631'\n\\item 'C632'\n\\item 'C633'\n\\item 'C634'\n\\item 'C635'\n\\item 'C636'\n\\item 'C637'\n\\item 'C638'\n\\item 'C639'\n\\item 'C640'\n\\item 'C641'\n\\item 'C642'\n\\item 'C643'\n\\item 'C644'\n\\item 'C645'\n\\item 'C646'\n\\item 'C647'\n\\item 'C648'\n\\item 'C649'\n\\item 'C650'\n\\item 'C651'\n\\item 'C652'\n\\item 'C653'\n\\item 'C654'\n\\item 'C655'\n\\item 'C656'\n\\item 'C657'\n\\item 'C658'\n\\item 'C659'\n\\item 'C660'\n\\item 'C661'\n\\item 'C662'\n\\item 'C663'\n\\item 'C664'\n\\item 'C665'\n\\item 'C666'\n\\item 'C667'\n\\item 'C668'\n\\item 'C669'\n\\item 'C670'\n\\item 'C671'\n\\item 'C672'\n\\item 'C673'\n\\item 'C674'\n\\item 'C675'\n\\item 'C676'\n\\item 'C677'\n\\item 'C678'\n\\item 'C679'\n\\item 'C680'\n\\item 'C681'\n\\item 'C682'\n\\item 'C683'\n\\item 'C684'\n\\item 'C685'\n\\item 'C686'\n\\item 'C687'\n\\item 'C688'\n\\item 'C689'\n\\item 'C690'\n\\item 'C691'\n\\item 'C692'\n\\item 'C693'\n\\item 'C694'\n\\item 'C695'\n\\item 'C696'\n\\item 'C697'\n\\item 'C698'\n\\item 'C699'\n\\item 'C700'\n\\item 'C701'\n\\item 'C702'\n\\item 'C703'\n\\item 'C704'\n\\item 'C705'\n\\item 'C706'\n\\item 'C707'\n\\item 'C708'\n\\item 'C709'\n\\item 'C710'\n\\item 'C711'\n\\item 'C712'\n\\item 'C713'\n\\item 'C714'\n\\item 'C715'\n\\item 'C716'\n\\item 'C717'\n\\item 'C718'\n\\item 'C719'\n\\item 'C720'\n\\item 'C721'\n\\item 'C722'\n\\item 'C723'\n\\item 'C724'\n\\item 'C725'\n\\item 'C726'\n\\item 'C727'\n\\item 'C728'\n\\item 'C729'\n\\item 'C730'\n\\item 'C731'\n\\item 'C732'\n\\item 'C733'\n\\item 'C734'\n\\item 'C735'\n\\item 'C736'\n\\item 'C737'\n\\item 'C738'\n\\item 'C739'\n\\item 'C740'\n\\item 'C741'\n\\item 'C742'\n\\item 'C743'\n\\item 'C744'\n\\item 'C745'\n\\item 'C746'\n\\item 'C747'\n\\item 'C748'\n\\item 'C749'\n\\item 'C750'\n\\item 'C751'\n\\item 'C752'\n\\item 'C753'\n\\item 'C754'\n\\item 'C755'\n\\item 'C756'\n\\item 'C757'\n\\item 'C758'\n\\item 'C759'\n\\item 'C760'\n\\item 'C761'\n\\item 'C762'\n\\item 'C763'\n\\item 'C764'\n\\item 'C765'\n\\item 'C766'\n\\item 'C767'\n\\item 'C768'\n\\item 'C769'\n\\item 'C770'\n\\item 'C771'\n\\item 'C772'\n\\item 'C773'\n\\item 'C774'\n\\item 'C775'\n\\item 'C776'\n\\item 'C777'\n\\item 'C778'\n\\item 'C779'\n\\item 'C780'\n\\item 'C781'\n\\item 'C782'\n\\item 'C783'\n\\item 'C784'\n\\item 'C785'\n\\end{enumerate*}\n",
            "text/markdown": "1. 'C1'\n2. 'C2'\n3. 'C3'\n4. 'C4'\n5. 'C5'\n6. 'C6'\n7. 'C7'\n8. 'C8'\n9. 'C9'\n10. 'C10'\n11. 'C11'\n12. 'C12'\n13. 'C13'\n14. 'C14'\n15. 'C15'\n16. 'C16'\n17. 'C17'\n18. 'C18'\n19. 'C19'\n20. 'C20'\n21. 'C21'\n22. 'C22'\n23. 'C23'\n24. 'C24'\n25. 'C25'\n26. 'C26'\n27. 'C27'\n28. 'C28'\n29. 'C29'\n30. 'C30'\n31. 'C31'\n32. 'C32'\n33. 'C33'\n34. 'C34'\n35. 'C35'\n36. 'C36'\n37. 'C37'\n38. 'C38'\n39. 'C39'\n40. 'C40'\n41. 'C41'\n42. 'C42'\n43. 'C43'\n44. 'C44'\n45. 'C45'\n46. 'C46'\n47. 'C47'\n48. 'C48'\n49. 'C49'\n50. 'C50'\n51. 'C51'\n52. 'C52'\n53. 'C53'\n54. 'C54'\n55. 'C55'\n56. 'C56'\n57. 'C57'\n58. 'C58'\n59. 'C59'\n60. 'C60'\n61. 'C61'\n62. 'C62'\n63. 'C63'\n64. 'C64'\n65. 'C65'\n66. 'C66'\n67. 'C67'\n68. 'C68'\n69. 'C69'\n70. 'C70'\n71. 'C71'\n72. 'C72'\n73. 'C73'\n74. 'C74'\n75. 'C75'\n76. 'C76'\n77. 'C77'\n78. 'C78'\n79. 'C79'\n80. 'C80'\n81. 'C81'\n82. 'C82'\n83. 'C83'\n84. 'C84'\n85. 'C85'\n86. 'C86'\n87. 'C87'\n88. 'C88'\n89. 'C89'\n90. 'C90'\n91. 'C91'\n92. 'C92'\n93. 'C93'\n94. 'C94'\n95. 'C95'\n96. 'C96'\n97. 'C97'\n98. 'C98'\n99. 'C99'\n100. 'C100'\n101. 'C101'\n102. 'C102'\n103. 'C103'\n104. 'C104'\n105. 'C105'\n106. 'C106'\n107. 'C107'\n108. 'C108'\n109. 'C109'\n110. 'C110'\n111. 'C111'\n112. 'C112'\n113. 'C113'\n114. 'C114'\n115. 'C115'\n116. 'C116'\n117. 'C117'\n118. 'C118'\n119. 'C119'\n120. 'C120'\n121. 'C121'\n122. 'C122'\n123. 'C123'\n124. 'C124'\n125. 'C125'\n126. 'C126'\n127. 'C127'\n128. 'C128'\n129. 'C129'\n130. 'C130'\n131. 'C131'\n132. 'C132'\n133. 'C133'\n134. 'C134'\n135. 'C135'\n136. 'C136'\n137. 'C137'\n138. 'C138'\n139. 'C139'\n140. 'C140'\n141. 'C141'\n142. 'C142'\n143. 'C143'\n144. 'C144'\n145. 'C145'\n146. 'C146'\n147. 'C147'\n148. 'C148'\n149. 'C149'\n150. 'C150'\n151. 'C151'\n152. 'C152'\n153. 'C153'\n154. 'C154'\n155. 'C155'\n156. 'C156'\n157. 'C157'\n158. 'C158'\n159. 'C159'\n160. 'C160'\n161. 'C161'\n162. 'C162'\n163. 'C163'\n164. 'C164'\n165. 'C165'\n166. 'C166'\n167. 'C167'\n168. 'C168'\n169. 'C169'\n170. 'C170'\n171. 'C171'\n172. 'C172'\n173. 'C173'\n174. 'C174'\n175. 'C175'\n176. 'C176'\n177. 'C177'\n178. 'C178'\n179. 'C179'\n180. 'C180'\n181. 'C181'\n182. 'C182'\n183. 'C183'\n184. 'C184'\n185. 'C185'\n186. 'C186'\n187. 'C187'\n188. 'C188'\n189. 'C189'\n190. 'C190'\n191. 'C191'\n192. 'C192'\n193. 'C193'\n194. 'C194'\n195. 'C195'\n196. 'C196'\n197. 'C197'\n198. 'C198'\n199. 'C199'\n200. 'C200'\n201. ⋯\n202. 'C586'\n203. 'C587'\n204. 'C588'\n205. 'C589'\n206. 'C590'\n207. 'C591'\n208. 'C592'\n209. 'C593'\n210. 'C594'\n211. 'C595'\n212. 'C596'\n213. 'C597'\n214. 'C598'\n215. 'C599'\n216. 'C600'\n217. 'C601'\n218. 'C602'\n219. 'C603'\n220. 'C604'\n221. 'C605'\n222. 'C606'\n223. 'C607'\n224. 'C608'\n225. 'C609'\n226. 'C610'\n227. 'C611'\n228. 'C612'\n229. 'C613'\n230. 'C614'\n231. 'C615'\n232. 'C616'\n233. 'C617'\n234. 'C618'\n235. 'C619'\n236. 'C620'\n237. 'C621'\n238. 'C622'\n239. 'C623'\n240. 'C624'\n241. 'C625'\n242. 'C626'\n243. 'C627'\n244. 'C628'\n245. 'C629'\n246. 'C630'\n247. 'C631'\n248. 'C632'\n249. 'C633'\n250. 'C634'\n251. 'C635'\n252. 'C636'\n253. 'C637'\n254. 'C638'\n255. 'C639'\n256. 'C640'\n257. 'C641'\n258. 'C642'\n259. 'C643'\n260. 'C644'\n261. 'C645'\n262. 'C646'\n263. 'C647'\n264. 'C648'\n265. 'C649'\n266. 'C650'\n267. 'C651'\n268. 'C652'\n269. 'C653'\n270. 'C654'\n271. 'C655'\n272. 'C656'\n273. 'C657'\n274. 'C658'\n275. 'C659'\n276. 'C660'\n277. 'C661'\n278. 'C662'\n279. 'C663'\n280. 'C664'\n281. 'C665'\n282. 'C666'\n283. 'C667'\n284. 'C668'\n285. 'C669'\n286. 'C670'\n287. 'C671'\n288. 'C672'\n289. 'C673'\n290. 'C674'\n291. 'C675'\n292. 'C676'\n293. 'C677'\n294. 'C678'\n295. 'C679'\n296. 'C680'\n297. 'C681'\n298. 'C682'\n299. 'C683'\n300. 'C684'\n301. 'C685'\n302. 'C686'\n303. 'C687'\n304. 'C688'\n305. 'C689'\n306. 'C690'\n307. 'C691'\n308. 'C692'\n309. 'C693'\n310. 'C694'\n311. 'C695'\n312. 'C696'\n313. 'C697'\n314. 'C698'\n315. 'C699'\n316. 'C700'\n317. 'C701'\n318. 'C702'\n319. 'C703'\n320. 'C704'\n321. 'C705'\n322. 'C706'\n323. 'C707'\n324. 'C708'\n325. 'C709'\n326. 'C710'\n327. 'C711'\n328. 'C712'\n329. 'C713'\n330. 'C714'\n331. 'C715'\n332. 'C716'\n333. 'C717'\n334. 'C718'\n335. 'C719'\n336. 'C720'\n337. 'C721'\n338. 'C722'\n339. 'C723'\n340. 'C724'\n341. 'C725'\n342. 'C726'\n343. 'C727'\n344. 'C728'\n345. 'C729'\n346. 'C730'\n347. 'C731'\n348. 'C732'\n349. 'C733'\n350. 'C734'\n351. 'C735'\n352. 'C736'\n353. 'C737'\n354. 'C738'\n355. 'C739'\n356. 'C740'\n357. 'C741'\n358. 'C742'\n359. 'C743'\n360. 'C744'\n361. 'C745'\n362. 'C746'\n363. 'C747'\n364. 'C748'\n365. 'C749'\n366. 'C750'\n367. 'C751'\n368. 'C752'\n369. 'C753'\n370. 'C754'\n371. 'C755'\n372. 'C756'\n373. 'C757'\n374. 'C758'\n375. 'C759'\n376. 'C760'\n377. 'C761'\n378. 'C762'\n379. 'C763'\n380. 'C764'\n381. 'C765'\n382. 'C766'\n383. 'C767'\n384. 'C768'\n385. 'C769'\n386. 'C770'\n387. 'C771'\n388. 'C772'\n389. 'C773'\n390. 'C774'\n391. 'C775'\n392. 'C776'\n393. 'C777'\n394. 'C778'\n395. 'C779'\n396. 'C780'\n397. 'C781'\n398. 'C782'\n399. 'C783'\n400. 'C784'\n401. 'C785'\n\n\n",
            "text/html": [
              "<style>\n",
              ".list-inline {list-style: none; margin:0; padding: 0}\n",
              ".list-inline>li {display: inline-block}\n",
              ".list-inline>li:not(:last-child)::after {content: \"\\00b7\"; padding: 0 .5ex}\n",
              "</style>\n",
              "<ol class=list-inline><li>'C1'</li><li>'C2'</li><li>'C3'</li><li>'C4'</li><li>'C5'</li><li>'C6'</li><li>'C7'</li><li>'C8'</li><li>'C9'</li><li>'C10'</li><li>'C11'</li><li>'C12'</li><li>'C13'</li><li>'C14'</li><li>'C15'</li><li>'C16'</li><li>'C17'</li><li>'C18'</li><li>'C19'</li><li>'C20'</li><li>'C21'</li><li>'C22'</li><li>'C23'</li><li>'C24'</li><li>'C25'</li><li>'C26'</li><li>'C27'</li><li>'C28'</li><li>'C29'</li><li>'C30'</li><li>'C31'</li><li>'C32'</li><li>'C33'</li><li>'C34'</li><li>'C35'</li><li>'C36'</li><li>'C37'</li><li>'C38'</li><li>'C39'</li><li>'C40'</li><li>'C41'</li><li>'C42'</li><li>'C43'</li><li>'C44'</li><li>'C45'</li><li>'C46'</li><li>'C47'</li><li>'C48'</li><li>'C49'</li><li>'C50'</li><li>'C51'</li><li>'C52'</li><li>'C53'</li><li>'C54'</li><li>'C55'</li><li>'C56'</li><li>'C57'</li><li>'C58'</li><li>'C59'</li><li>'C60'</li><li>'C61'</li><li>'C62'</li><li>'C63'</li><li>'C64'</li><li>'C65'</li><li>'C66'</li><li>'C67'</li><li>'C68'</li><li>'C69'</li><li>'C70'</li><li>'C71'</li><li>'C72'</li><li>'C73'</li><li>'C74'</li><li>'C75'</li><li>'C76'</li><li>'C77'</li><li>'C78'</li><li>'C79'</li><li>'C80'</li><li>'C81'</li><li>'C82'</li><li>'C83'</li><li>'C84'</li><li>'C85'</li><li>'C86'</li><li>'C87'</li><li>'C88'</li><li>'C89'</li><li>'C90'</li><li>'C91'</li><li>'C92'</li><li>'C93'</li><li>'C94'</li><li>'C95'</li><li>'C96'</li><li>'C97'</li><li>'C98'</li><li>'C99'</li><li>'C100'</li><li>'C101'</li><li>'C102'</li><li>'C103'</li><li>'C104'</li><li>'C105'</li><li>'C106'</li><li>'C107'</li><li>'C108'</li><li>'C109'</li><li>'C110'</li><li>'C111'</li><li>'C112'</li><li>'C113'</li><li>'C114'</li><li>'C115'</li><li>'C116'</li><li>'C117'</li><li>'C118'</li><li>'C119'</li><li>'C120'</li><li>'C121'</li><li>'C122'</li><li>'C123'</li><li>'C124'</li><li>'C125'</li><li>'C126'</li><li>'C127'</li><li>'C128'</li><li>'C129'</li><li>'C130'</li><li>'C131'</li><li>'C132'</li><li>'C133'</li><li>'C134'</li><li>'C135'</li><li>'C136'</li><li>'C137'</li><li>'C138'</li><li>'C139'</li><li>'C140'</li><li>'C141'</li><li>'C142'</li><li>'C143'</li><li>'C144'</li><li>'C145'</li><li>'C146'</li><li>'C147'</li><li>'C148'</li><li>'C149'</li><li>'C150'</li><li>'C151'</li><li>'C152'</li><li>'C153'</li><li>'C154'</li><li>'C155'</li><li>'C156'</li><li>'C157'</li><li>'C158'</li><li>'C159'</li><li>'C160'</li><li>'C161'</li><li>'C162'</li><li>'C163'</li><li>'C164'</li><li>'C165'</li><li>'C166'</li><li>'C167'</li><li>'C168'</li><li>'C169'</li><li>'C170'</li><li>'C171'</li><li>'C172'</li><li>'C173'</li><li>'C174'</li><li>'C175'</li><li>'C176'</li><li>'C177'</li><li>'C178'</li><li>'C179'</li><li>'C180'</li><li>'C181'</li><li>'C182'</li><li>'C183'</li><li>'C184'</li><li>'C185'</li><li>'C186'</li><li>'C187'</li><li>'C188'</li><li>'C189'</li><li>'C190'</li><li>'C191'</li><li>'C192'</li><li>'C193'</li><li>'C194'</li><li>'C195'</li><li>'C196'</li><li>'C197'</li><li>'C198'</li><li>'C199'</li><li>'C200'</li><li>⋯</li><li>'C586'</li><li>'C587'</li><li>'C588'</li><li>'C589'</li><li>'C590'</li><li>'C591'</li><li>'C592'</li><li>'C593'</li><li>'C594'</li><li>'C595'</li><li>'C596'</li><li>'C597'</li><li>'C598'</li><li>'C599'</li><li>'C600'</li><li>'C601'</li><li>'C602'</li><li>'C603'</li><li>'C604'</li><li>'C605'</li><li>'C606'</li><li>'C607'</li><li>'C608'</li><li>'C609'</li><li>'C610'</li><li>'C611'</li><li>'C612'</li><li>'C613'</li><li>'C614'</li><li>'C615'</li><li>'C616'</li><li>'C617'</li><li>'C618'</li><li>'C619'</li><li>'C620'</li><li>'C621'</li><li>'C622'</li><li>'C623'</li><li>'C624'</li><li>'C625'</li><li>'C626'</li><li>'C627'</li><li>'C628'</li><li>'C629'</li><li>'C630'</li><li>'C631'</li><li>'C632'</li><li>'C633'</li><li>'C634'</li><li>'C635'</li><li>'C636'</li><li>'C637'</li><li>'C638'</li><li>'C639'</li><li>'C640'</li><li>'C641'</li><li>'C642'</li><li>'C643'</li><li>'C644'</li><li>'C645'</li><li>'C646'</li><li>'C647'</li><li>'C648'</li><li>'C649'</li><li>'C650'</li><li>'C651'</li><li>'C652'</li><li>'C653'</li><li>'C654'</li><li>'C655'</li><li>'C656'</li><li>'C657'</li><li>'C658'</li><li>'C659'</li><li>'C660'</li><li>'C661'</li><li>'C662'</li><li>'C663'</li><li>'C664'</li><li>'C665'</li><li>'C666'</li><li>'C667'</li><li>'C668'</li><li>'C669'</li><li>'C670'</li><li>'C671'</li><li>'C672'</li><li>'C673'</li><li>'C674'</li><li>'C675'</li><li>'C676'</li><li>'C677'</li><li>'C678'</li><li>'C679'</li><li>'C680'</li><li>'C681'</li><li>'C682'</li><li>'C683'</li><li>'C684'</li><li>'C685'</li><li>'C686'</li><li>'C687'</li><li>'C688'</li><li>'C689'</li><li>'C690'</li><li>'C691'</li><li>'C692'</li><li>'C693'</li><li>'C694'</li><li>'C695'</li><li>'C696'</li><li>'C697'</li><li>'C698'</li><li>'C699'</li><li>'C700'</li><li>'C701'</li><li>'C702'</li><li>'C703'</li><li>'C704'</li><li>'C705'</li><li>'C706'</li><li>'C707'</li><li>'C708'</li><li>'C709'</li><li>'C710'</li><li>'C711'</li><li>'C712'</li><li>'C713'</li><li>'C714'</li><li>'C715'</li><li>'C716'</li><li>'C717'</li><li>'C718'</li><li>'C719'</li><li>'C720'</li><li>'C721'</li><li>'C722'</li><li>'C723'</li><li>'C724'</li><li>'C725'</li><li>'C726'</li><li>'C727'</li><li>'C728'</li><li>'C729'</li><li>'C730'</li><li>'C731'</li><li>'C732'</li><li>'C733'</li><li>'C734'</li><li>'C735'</li><li>'C736'</li><li>'C737'</li><li>'C738'</li><li>'C739'</li><li>'C740'</li><li>'C741'</li><li>'C742'</li><li>'C743'</li><li>'C744'</li><li>'C745'</li><li>'C746'</li><li>'C747'</li><li>'C748'</li><li>'C749'</li><li>'C750'</li><li>'C751'</li><li>'C752'</li><li>'C753'</li><li>'C754'</li><li>'C755'</li><li>'C756'</li><li>'C757'</li><li>'C758'</li><li>'C759'</li><li>'C760'</li><li>'C761'</li><li>'C762'</li><li>'C763'</li><li>'C764'</li><li>'C765'</li><li>'C766'</li><li>'C767'</li><li>'C768'</li><li>'C769'</li><li>'C770'</li><li>'C771'</li><li>'C772'</li><li>'C773'</li><li>'C774'</li><li>'C775'</li><li>'C776'</li><li>'C777'</li><li>'C778'</li><li>'C779'</li><li>'C780'</li><li>'C781'</li><li>'C782'</li><li>'C783'</li><li>'C784'</li><li>'C785'</li></ol>\n"
            ]
          },
          "metadata": {
            "tags": []
          }
        }
      ]
    },
    {
      "cell_type": "markdown",
      "metadata": {
        "id": "eHRH4XwLFR9i"
      },
      "source": [
        "#Modelo"
      ]
    },
    {
      "cell_type": "code",
      "metadata": {
        "colab": {
          "base_uri": "https://localhost:8080/",
          "height": 454
        },
        "id": "0P0QiC68FFZZ",
        "outputId": "8c2d6f07-2a1e-47b4-c273-da73e64b098d"
      },
      "source": [
        "modelo <- h2o.deeplearning(x = colnames(treino[,1:784]),  y = \"C785\",  training_frame = treino,  validation_frame = teste,  distribution = \"AUTO\",  activation = \"RectifierWithDropout\",  hidden = c(64,64,64),  sparse = TRUE, epochs = 20)\n",
        "plot(modelo)"
      ],
      "execution_count": 12,
      "outputs": [
        {
          "output_type": "stream",
          "text": [
            "  |======================================================================| 100%\n"
          ],
          "name": "stdout"
        },
        {
          "output_type": "display_data",
          "data": {
            "image/png": "[encoded data removed]",
            "text/plain": [
              "Plot with title “Scoring History”"
            ]
          },
          "metadata": {
            "tags": [],
            "image/png": {
              "width": 420,
              "height": 420
            }
          }
        }
      ]
    },
    {
      "cell_type": "markdown",
      "metadata": {
        "id": "yJr7XAhOHo_2"
      },
      "source": [
        "Performance do modelo"
      ]
    },
    {
      "cell_type": "code",
      "metadata": {
        "colab": {
          "base_uri": "https://localhost:8080/",
          "height": 782
        },
        "id": "2sTOs0vFFakA",
        "outputId": "2b0cf0ab-fa03-4b03-d210-cf3e526a899c"
      },
      "source": [
        "h2o.performance(modelo)"
      ],
      "execution_count": 13,
      "outputs": [
        {
          "output_type": "display_data",
          "data": {
            "text/plain": [
              "H2OMultinomialMetrics: deeplearning\n",
              "** Reported on training data. **\n",
              "** Metrics reported on temporary training frame with 10081 samples **\n",
              "\n",
              "Training Set Metrics: \n",
              "=====================\n",
              "\n",
              "MSE: (Extract with `h2o.mse`) 0.03401417\n",
              "RMSE: (Extract with `h2o.rmse`) 0.1844293\n",
              "Logloss: (Extract with `h2o.logloss`) 0.1271773\n",
              "Mean Per-Class Error: 0.03637063\n",
              "AUC: (Extract with `h2o.auc`) NaN\n",
              "AUCPR: (Extract with `h2o.aucpr`) NaN\n",
              "Confusion Matrix: Extract with `h2o.confusionMatrix(<model>,train = TRUE)`)\n",
              "=========================================================================\n",
              "Confusion Matrix: Row labels: Actual class; Column labels: Predicted class\n",
              "         0    1   2   3   4   5    6    7    8   9  Error           Rate\n",
              "0      967    0   3   0   1   3    7    0   16   0 0.0301 =     30 / 997\n",
              "1        0 1089   9   1   0   1    0    0    9   2 0.0198 =   22 / 1,111\n",
              "2        0    4 959   6   7   1    2    6    9   0 0.0352 =     35 / 994\n",
              "3        1    1   7 960   0  37    2    9   10   4 0.0689 =   71 / 1,031\n",
              "4        2    3   1   0 938   0    3    0    5  30 0.0448 =     44 / 982\n",
              "5        2    1   3   6   0 878    3    0    3   3 0.0234 =     21 / 899\n",
              "6        2    2   1   0   2   9 1021    0    1   0 0.0164 =   17 / 1,038\n",
              "7        3    3   2   0   9   0    0 1057    0  15 0.0294 =   32 / 1,089\n",
              "8        1   10   6   7   1  15    3    3  952   3 0.0490 =   49 / 1,001\n",
              "9        2    0   0   4  12   6    1   12    7 895 0.0469 =     44 / 939\n",
              "Totals 980 1113 991 984 970 950 1042 1087 1012 952 0.0362 = 365 / 10,081\n",
              "\n",
              "Hit Ratio Table: Extract with `h2o.hit_ratio_table(<model>,train = TRUE)`\n",
              "=======================================================================\n",
              "Top-10 Hit Ratios: \n",
              "    k hit_ratio\n",
              "1   1  0.963793\n",
              "2   2  0.987501\n",
              "3   3  0.993651\n",
              "4   4  0.996826\n",
              "5   5  0.998314\n",
              "6   6  0.998909\n",
              "7   7  0.999405\n",
              "8   8  0.999802\n",
              "9   9  0.999901\n",
              "10 10  1.000000\n",
              "\n",
              "\n"
            ]
          },
          "metadata": {
            "tags": []
          }
        }
      ]
    },
    {
      "cell_type": "markdown",
      "metadata": {
        "id": "llFElR2MH8lu"
      },
      "source": [
        "Fazemos um teste, prevendo um novo valor"
      ]
    },
    {
      "cell_type": "code",
      "metadata": {
        "colab": {
          "base_uri": "https://localhost:8080/",
          "height": 136
        },
        "id": "8UF9ffnnHuls",
        "outputId": "4f7a6720-a088-4e38-9dee-19943e5253fd"
      },
      "source": [
        "treino[20,785]\n",
        "pred <- h2o.predict(modelo, newdata = treino[20,1:784])\n",
        "pred$predict"
      ],
      "execution_count": 14,
      "outputs": [
        {
          "output_type": "display_data",
          "data": {
            "text/plain": [
              "[1] 4\n",
              "Levels: 0 1 2 3 4 5 6 7 8 9"
            ],
            "text/latex": "4\n\\emph{Levels}: \\begin{enumerate*}\n\\item '0'\n\\item '1'\n\\item '2'\n\\item '3'\n\\item '4'\n\\item '5'\n\\item '6'\n\\item '7'\n\\item '8'\n\\item '9'\n\\end{enumerate*}\n",
            "text/markdown": "4\n**Levels**: 1. '0'\n2. '1'\n3. '2'\n4. '3'\n5. '4'\n6. '5'\n7. '6'\n8. '7'\n9. '8'\n10. '9'\n\n\n",
            "text/html": [
              "4\n",
              "<details>\n",
              "\t<summary style=display:list-item;cursor:pointer>\n",
              "\t\t<strong>Levels</strong>:\n",
              "\t</summary>\n",
              "\t<style>\n",
              "\t.list-inline {list-style: none; margin:0; padding: 0}\n",
              "\t.list-inline>li {display: inline-block}\n",
              "\t.list-inline>li:not(:last-child)::after {content: \"\\00b7\"; padding: 0 .5ex}\n",
              "\t</style>\n",
              "\t<ol class=list-inline><li>'0'</li><li>'1'</li><li>'2'</li><li>'3'</li><li>'4'</li><li>'5'</li><li>'6'</li><li>'7'</li><li>'8'</li><li>'9'</li></ol>\n",
              "</details>"
            ]
          },
          "metadata": {
            "tags": []
          }
        },
        {
          "output_type": "stream",
          "text": [
            "  |======================================================================| 100%\n"
          ],
          "name": "stdout"
        },
        {
          "output_type": "display_data",
          "data": {
            "text/plain": [
              "  predict\n",
              "1       4\n",
              "\n",
              "[1 row x 1 column] "
            ]
          },
          "metadata": {
            "tags": []
          }
        }
      ]
    },
    {
      "cell_type": "code",
      "metadata": {
        "id": "AncevGdKICIu"
      },
      "source": [
        ""
      ],
      "execution_count": null,
      "outputs": []
    }
  ]
}