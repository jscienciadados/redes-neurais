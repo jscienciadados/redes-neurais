{
  "nbformat": 4,
  "nbformat_minor": 0,
  "metadata": {
    "colab": {
      "name": "Deeplearning.ipynb",
      "provenance": [],
      "collapsed_sections": [],
      "authorship_tag": "ABX9TyMHajnr0eSJkB/T50sJWO2i",
      "include_colab_link": true
    },
    "kernelspec": {
      "name": "python3",
      "display_name": "Python 3"
    },
    "accelerator": "GPU"
  },
  "cells": [
    {
      "cell_type": "markdown",
      "metadata": {
        "id": "view-in-github",
        "colab_type": "text"
      },
      "source": [
        "<a href=\"https://colab.research.google.com/github/jscienciadados/redes-neurais/blob/main/Deeplearning.ipynb\" target=\"_parent\"><img src=\"https://colab.research.google.com/assets/colab-badge.svg\" alt=\"Open In Colab\"/></a>"
      ]
    },
    {
      "cell_type": "code",
      "metadata": {
        "id": "fVbKaUqj0sBa"
      },
      "source": [
        "import keras \r\n",
        "from keras.datasets import mnist \r\n",
        "from tensorflow.python.keras import Sequential # Arquitetura da nossa rede neura \r\n",
        "from tensorflow.python.keras.layers import Dense, Dropout # Neurônio (base da rede) e Regularizador (evita overfitting) from tensorflow.compat.v1.keras.optimizers import RMSprop # Otimizador (back propagation)"
      ],
      "execution_count": 4,
      "outputs": []
    },
    {
      "cell_type": "code",
      "metadata": {
        "colab": {
          "base_uri": "https://localhost:8080/"
        },
        "id": "o97hWv9A8DKX",
        "outputId": "8afd4fc8-e6e5-4c39-ef5d-1263ee5145c7"
      },
      "source": [
        "# Carreagar os dados de treino e de teste\r\n",
        "(x_treino, y_treino), (x_teste, y_teste)= mnist.load_data()\r\n"
      ],
      "execution_count": 5,
      "outputs": [
        {
          "output_type": "stream",
          "text": [
            "Downloading data from https://storage.googleapis.com/tensorflow/tf-keras-datasets/mnist.npz\n",
            "11493376/11490434 [==============================] - 0s 0us/step\n"
          ],
          "name": "stdout"
        }
      ]
    },
    {
      "cell_type": "code",
      "metadata": {
        "colab": {
          "base_uri": "https://localhost:8080/"
        },
        "id": "V01GWMp1-ssg",
        "outputId": "e004091f-606c-4ecb-d72d-786103fd8bde"
      },
      "source": [
        "# Analisando o dataset\r\n",
        "print(\"Quantidade de imagens para treino\",len(x_treino))"
      ],
      "execution_count": 6,
      "outputs": [
        {
          "output_type": "stream",
          "text": [
            "Quantidade de imagens para treino 60000\n"
          ],
          "name": "stdout"
        }
      ]
    },
    {
      "cell_type": "code",
      "metadata": {
        "colab": {
          "base_uri": "https://localhost:8080/"
        },
        "id": "hJa-2i-M_OAB",
        "outputId": "948082ff-334f-4976-c91b-58642e67e066"
      },
      "source": [
        "print(\"Quantidade de imagens de teste\", len(y_teste))"
      ],
      "execution_count": 7,
      "outputs": [
        {
          "output_type": "stream",
          "text": [
            "Quantidade de imagens de teste 10000\n"
          ],
          "name": "stdout"
        }
      ]
    },
    {
      "cell_type": "code",
      "metadata": {
        "colab": {
          "base_uri": "https://localhost:8080/"
        },
        "id": "fm5FXyB0_bQU",
        "outputId": "01c2698c-dde4-447c-e064-b62a84df79de"
      },
      "source": [
        "print(\"Tipo de Dados de treino\", type(x_treino))\r\n",
        "print(\"Tipo de dados de teste\", type(y_teste))"
      ],
      "execution_count": 8,
      "outputs": [
        {
          "output_type": "stream",
          "text": [
            "Tipo de Dados de treino <class 'numpy.ndarray'>\n",
            "Tipo de dados de teste <class 'numpy.ndarray'>\n"
          ],
          "name": "stdout"
        }
      ]
    },
    {
      "cell_type": "code",
      "metadata": {
        "colab": {
          "base_uri": "https://localhost:8080/"
        },
        "id": "hdwgEsbr_4Rk",
        "outputId": "16a733b3-da9f-4cb2-a587-13d38eefe884"
      },
      "source": [
        "representacao_imagem = y_treino[0]\r\n",
        "print(representacao_imagem)\r\n",
        "primeira_imagem = x_treino[0]\r\n",
        "print(primeira_imagem)\r\n",
        "print(primeira_imagem.shape)"
      ],
      "execution_count": 10,
      "outputs": [
        {
          "output_type": "stream",
          "text": [
            "5\n",
            "[[  0   0   0   0   0   0   0   0   0   0   0   0   0   0   0   0   0   0\n",
            "    0   0   0   0   0   0   0   0   0   0]\n",
            " [  0   0   0   0   0   0   0   0   0   0   0   0   0   0   0   0   0   0\n",
            "    0   0   0   0   0   0   0   0   0   0]\n",
            " [  0   0   0   0   0   0   0   0   0   0   0   0   0   0   0   0   0   0\n",
            "    0   0   0   0   0   0   0   0   0   0]\n",
            " [  0   0   0   0   0   0   0   0   0   0   0   0   0   0   0   0   0   0\n",
            "    0   0   0   0   0   0   0   0   0   0]\n",
            " [  0   0   0   0   0   0   0   0   0   0   0   0   0   0   0   0   0   0\n",
            "    0   0   0   0   0   0   0   0   0   0]\n",
            " [  0   0   0   0   0   0   0   0   0   0   0   0   3  18  18  18 126 136\n",
            "  175  26 166 255 247 127   0   0   0   0]\n",
            " [  0   0   0   0   0   0   0   0  30  36  94 154 170 253 253 253 253 253\n",
            "  225 172 253 242 195  64   0   0   0   0]\n",
            " [  0   0   0   0   0   0   0  49 238 253 253 253 253 253 253 253 253 251\n",
            "   93  82  82  56  39   0   0   0   0   0]\n",
            " [  0   0   0   0   0   0   0  18 219 253 253 253 253 253 198 182 247 241\n",
            "    0   0   0   0   0   0   0   0   0   0]\n",
            " [  0   0   0   0   0   0   0   0  80 156 107 253 253 205  11   0  43 154\n",
            "    0   0   0   0   0   0   0   0   0   0]\n",
            " [  0   0   0   0   0   0   0   0   0  14   1 154 253  90   0   0   0   0\n",
            "    0   0   0   0   0   0   0   0   0   0]\n",
            " [  0   0   0   0   0   0   0   0   0   0   0 139 253 190   2   0   0   0\n",
            "    0   0   0   0   0   0   0   0   0   0]\n",
            " [  0   0   0   0   0   0   0   0   0   0   0  11 190 253  70   0   0   0\n",
            "    0   0   0   0   0   0   0   0   0   0]\n",
            " [  0   0   0   0   0   0   0   0   0   0   0   0  35 241 225 160 108   1\n",
            "    0   0   0   0   0   0   0   0   0   0]\n",
            " [  0   0   0   0   0   0   0   0   0   0   0   0   0  81 240 253 253 119\n",
            "   25   0   0   0   0   0   0   0   0   0]\n",
            " [  0   0   0   0   0   0   0   0   0   0   0   0   0   0  45 186 253 253\n",
            "  150  27   0   0   0   0   0   0   0   0]\n",
            " [  0   0   0   0   0   0   0   0   0   0   0   0   0   0   0  16  93 252\n",
            "  253 187   0   0   0   0   0   0   0   0]\n",
            " [  0   0   0   0   0   0   0   0   0   0   0   0   0   0   0   0   0 249\n",
            "  253 249  64   0   0   0   0   0   0   0]\n",
            " [  0   0   0   0   0   0   0   0   0   0   0   0   0   0  46 130 183 253\n",
            "  253 207   2   0   0   0   0   0   0   0]\n",
            " [  0   0   0   0   0   0   0   0   0   0   0   0  39 148 229 253 253 253\n",
            "  250 182   0   0   0   0   0   0   0   0]\n",
            " [  0   0   0   0   0   0   0   0   0   0  24 114 221 253 253 253 253 201\n",
            "   78   0   0   0   0   0   0   0   0   0]\n",
            " [  0   0   0   0   0   0   0   0  23  66 213 253 253 253 253 198  81   2\n",
            "    0   0   0   0   0   0   0   0   0   0]\n",
            " [  0   0   0   0   0   0  18 171 219 253 253 253 253 195  80   9   0   0\n",
            "    0   0   0   0   0   0   0   0   0   0]\n",
            " [  0   0   0   0  55 172 226 253 253 253 253 244 133  11   0   0   0   0\n",
            "    0   0   0   0   0   0   0   0   0   0]\n",
            " [  0   0   0   0 136 253 253 253 212 135 132  16   0   0   0   0   0   0\n",
            "    0   0   0   0   0   0   0   0   0   0]\n",
            " [  0   0   0   0   0   0   0   0   0   0   0   0   0   0   0   0   0   0\n",
            "    0   0   0   0   0   0   0   0   0   0]\n",
            " [  0   0   0   0   0   0   0   0   0   0   0   0   0   0   0   0   0   0\n",
            "    0   0   0   0   0   0   0   0   0   0]\n",
            " [  0   0   0   0   0   0   0   0   0   0   0   0   0   0   0   0   0   0\n",
            "    0   0   0   0   0   0   0   0   0   0]]\n",
            "(28, 28)\n"
          ],
          "name": "stdout"
        }
      ]
    },
    {
      "cell_type": "code",
      "metadata": {
        "colab": {
          "base_uri": "https://localhost:8080/",
          "height": 282
        },
        "id": "PlS_VTUnAD3b",
        "outputId": "12da3bdd-537a-450a-ec4d-8a2e0296c265"
      },
      "source": [
        "import matplotlib.pyplot as plt\r\n",
        "indice = 5000\r\n",
        "plt.imshow(x_treino[indice], cmap=plt.cm.binary)"
      ],
      "execution_count": 16,
      "outputs": [
        {
          "output_type": "execute_result",
          "data": {
            "text/plain": [
              "<matplotlib.image.AxesImage at 0x7fd0a1a56240>"
            ]
          },
          "metadata": {
            "tags": []
          },
          "execution_count": 16
        },
        {
          "output_type": "display_data",
          "data": {
            "image/png": "[encoded data removed]",
            "text/plain": [
              "<Figure size 432x288 with 1 Axes>"
            ]
          },
          "metadata": {
            "tags": [],
            "needs_background": "light"
          }
        }
      ]
    },
    {
      "cell_type": "code",
      "metadata": {
        "id": "xVLK-9lRDfUR"
      },
      "source": [
        "# fluxo para construção de rede neural\r\n",
        "# Organizar a camada de input\r\n",
        "# Organizar a camada de output\r\n",
        "# Estruturar a rede neural\r\n",
        "# Treinar o modelo\r\n",
        "# Fazer as previsoes"
      ],
      "execution_count": 17,
      "outputs": []
    },
    {
      "cell_type": "code",
      "metadata": {
        "id": "xKuuLK5gFIQ3"
      },
      "source": [
        "# Achatando a matrix de pixel e transformando em uma lista\r\n",
        "quantidade_treino = len(x_treino)\r\n",
        "quantidade_teste = len(x_teste)\r\n",
        "\r\n",
        "resolucao_imagem = x_treino[0].shape\r\n",
        "resolucao_total = resolucao_imagem[0] * resolucao_imagem[1]\r\n",
        "\r\n",
        "x_treino = x_treino.reshape(quantidade_treino, resolucao_total)\r\n",
        "x_teste = x_teste.reshape(quantidade_teste, resolucao_total)"
      ],
      "execution_count": 21,
      "outputs": []
    },
    {
      "cell_type": "code",
      "metadata": {
        "colab": {
          "base_uri": "https://localhost:8080/"
        },
        "id": "79UNaxh8GdBL",
        "outputId": "9740e133-48e5-47c3-9a58-ba04c7d06874"
      },
      "source": [
        "print(\"Quantidade de itens em x_treino_acahatado[0]:\" , len(x_treino))\r\n",
        "\r\n",
        "print(x_treino[0])"
      ],
      "execution_count": 22,
      "outputs": [
        {
          "output_type": "stream",
          "text": [
            "Quantidade de itens em x_treino_acahatado[0]: 60000\n",
            "[  0   0   0   0   0   0   0   0   0   0   0   0   0   0   0   0   0   0\n",
            "   0   0   0   0   0   0   0   0   0   0   0   0   0   0   0   0   0   0\n",
            "   0   0   0   0   0   0   0   0   0   0   0   0   0   0   0   0   0   0\n",
            "   0   0   0   0   0   0   0   0   0   0   0   0   0   0   0   0   0   0\n",
            "   0   0   0   0   0   0   0   0   0   0   0   0   0   0   0   0   0   0\n",
            "   0   0   0   0   0   0   0   0   0   0   0   0   0   0   0   0   0   0\n",
            "   0   0   0   0   0   0   0   0   0   0   0   0   0   0   0   0   0   0\n",
            "   0   0   0   0   0   0   0   0   0   0   0   0   0   0   0   0   0   0\n",
            "   0   0   0   0   0   0   0   0   3  18  18  18 126 136 175  26 166 255\n",
            " 247 127   0   0   0   0   0   0   0   0   0   0   0   0  30  36  94 154\n",
            " 170 253 253 253 253 253 225 172 253 242 195  64   0   0   0   0   0   0\n",
            "   0   0   0   0   0  49 238 253 253 253 253 253 253 253 253 251  93  82\n",
            "  82  56  39   0   0   0   0   0   0   0   0   0   0   0   0  18 219 253\n",
            " 253 253 253 253 198 182 247 241   0   0   0   0   0   0   0   0   0   0\n",
            "   0   0   0   0   0   0   0   0  80 156 107 253 253 205  11   0  43 154\n",
            "   0   0   0   0   0   0   0   0   0   0   0   0   0   0   0   0   0   0\n",
            "   0  14   1 154 253  90   0   0   0   0   0   0   0   0   0   0   0   0\n",
            "   0   0   0   0   0   0   0   0   0   0   0   0   0 139 253 190   2   0\n",
            "   0   0   0   0   0   0   0   0   0   0   0   0   0   0   0   0   0   0\n",
            "   0   0   0   0   0  11 190 253  70   0   0   0   0   0   0   0   0   0\n",
            "   0   0   0   0   0   0   0   0   0   0   0   0   0   0   0   0  35 241\n",
            " 225 160 108   1   0   0   0   0   0   0   0   0   0   0   0   0   0   0\n",
            "   0   0   0   0   0   0   0   0   0  81 240 253 253 119  25   0   0   0\n",
            "   0   0   0   0   0   0   0   0   0   0   0   0   0   0   0   0   0   0\n",
            "   0   0  45 186 253 253 150  27   0   0   0   0   0   0   0   0   0   0\n",
            "   0   0   0   0   0   0   0   0   0   0   0   0   0  16  93 252 253 187\n",
            "   0   0   0   0   0   0   0   0   0   0   0   0   0   0   0   0   0   0\n",
            "   0   0   0   0   0   0   0 249 253 249  64   0   0   0   0   0   0   0\n",
            "   0   0   0   0   0   0   0   0   0   0   0   0   0   0  46 130 183 253\n",
            " 253 207   2   0   0   0   0   0   0   0   0   0   0   0   0   0   0   0\n",
            "   0   0   0   0  39 148 229 253 253 253 250 182   0   0   0   0   0   0\n",
            "   0   0   0   0   0   0   0   0   0   0   0   0  24 114 221 253 253 253\n",
            " 253 201  78   0   0   0   0   0   0   0   0   0   0   0   0   0   0   0\n",
            "   0   0  23  66 213 253 253 253 253 198  81   2   0   0   0   0   0   0\n",
            "   0   0   0   0   0   0   0   0   0   0  18 171 219 253 253 253 253 195\n",
            "  80   9   0   0   0   0   0   0   0   0   0   0   0   0   0   0   0   0\n",
            "  55 172 226 253 253 253 253 244 133  11   0   0   0   0   0   0   0   0\n",
            "   0   0   0   0   0   0   0   0   0   0 136 253 253 253 212 135 132  16\n",
            "   0   0   0   0   0   0   0   0   0   0   0   0   0   0   0   0   0   0\n",
            "   0   0   0   0   0   0   0   0   0   0   0   0   0   0   0   0   0   0\n",
            "   0   0   0   0   0   0   0   0   0   0   0   0   0   0   0   0   0   0\n",
            "   0   0   0   0   0   0   0   0   0   0   0   0   0   0   0   0   0   0\n",
            "   0   0   0   0   0   0   0   0   0   0   0   0   0   0   0   0   0   0\n",
            "   0   0   0   0   0   0   0   0   0   0]\n"
          ],
          "name": "stdout"
        }
      ]
    },
    {
      "cell_type": "code",
      "metadata": {
        "id": "mgy0yoyvHX7W"
      },
      "source": [
        "# Normalização dos dados\r\n",
        "# 255 vire 1\r\n",
        "# 127 vire 0.5\r\n",
        "# 0 vire 0\r\n"
      ],
      "execution_count": 23,
      "outputs": []
    },
    {
      "cell_type": "code",
      "metadata": {
        "id": "ZKInfuWXISO6"
      },
      "source": [
        "x_treino = x_treino.astype('float32')\r\n",
        "x_treino /= 255 \r\n",
        "x_teste = x_teste.astype('float32')\r\n",
        "x_teste /= 255"
      ],
      "execution_count": 26,
      "outputs": []
    },
    {
      "cell_type": "code",
      "metadata": {
        "colab": {
          "base_uri": "https://localhost:8080/"
        },
        "id": "aje28L7JNnKs",
        "outputId": "a69c32ff-9f50-43d1-9588-76332ff82513"
      },
      "source": [
        "print(x_treino[0][350],type(x_treino[0][0]))\r\n"
      ],
      "execution_count": 29,
      "outputs": [
        {
          "output_type": "stream",
          "text": [
            "0.27450982 <class 'numpy.float32'>\n"
          ],
          "name": "stdout"
        }
      ]
    },
    {
      "cell_type": "code",
      "metadata": {
        "colab": {
          "base_uri": "https://localhost:8080/"
        },
        "id": "ovUDoYjFO1cf",
        "outputId": "a522c364-a428-4456-8a21-08281b17e7da"
      },
      "source": [
        "# Preparação da camada de saida - output\r\n",
        "valores_unicos = set(y_treino) # {0, 1, 2, 3, 4, 5, 6, 7, 8, 9}\r\n",
        "print(valores_unicos)\r\n",
        "\r\n",
        "quantidade_valores_unicos = len(valores_unicos) # 10\r\n",
        "print(quantidade_valores_unicos)\r\n",
        "\r\n",
        "print(\"y_treino[0] antes:\", y_treino[0])\r\n",
        "\r\n",
        "y_treino = keras.utils.to_categorical(y_treino, quantidade_valores_unicos)\r\n",
        "y_teste = keras.utils.to_categorical(y_teste, quantidade_valores_unicos)\r\n",
        "\r\n",
        "print(\"y_treino[0] depois:\", y_treino[0])"
      ],
      "execution_count": 34,
      "outputs": [
        {
          "output_type": "stream",
          "text": [
            "{0, 1, 2, 3, 4, 5, 6, 7, 8, 9}\n",
            "10\n",
            "y_treino[0] antes: 5\n",
            "y_treino[0] depois: [0. 0. 0. 0. 0. 1. 0. 0. 0. 0.]\n"
          ],
          "name": "stdout"
        }
      ]
    },
    {
      "cell_type": "code",
      "metadata": {
        "colab": {
          "base_uri": "https://localhost:8080/"
        },
        "id": "rH9rzp_cUf5c",
        "outputId": "26b98295-833f-4355-fe1f-75c502bb50b7"
      },
      "source": [
        "# Rede Neural\r\n",
        "model = Sequential()\r\n",
        "\r\n",
        "# Primeira hidden layer 30 neuronio\r\n",
        "model.add(Dense(30, activation='relu', input_shape=(resolucao_total, )))\r\n",
        "\r\n",
        "model.add(Dropout(0.2))\r\n",
        "\r\n",
        "model.add(Dense(20, activation='relu'))\r\n",
        "\r\n",
        "model.add(Dropout(0.2))\r\n",
        "\r\n",
        "model.add(Dense(quantidade_valores_unicos, activation='softmax'))\r\n",
        "\r\n",
        "# Resumo\r\n",
        "model.summary()"
      ],
      "execution_count": 37,
      "outputs": [
        {
          "output_type": "stream",
          "text": [
            "Model: \"sequential_2\"\n",
            "_________________________________________________________________\n",
            "Layer (type)                 Output Shape              Param #   \n",
            "=================================================================\n",
            "dense_1 (Dense)              (None, 30)                23550     \n",
            "_________________________________________________________________\n",
            "dropout (Dropout)            (None, 30)                0         \n",
            "_________________________________________________________________\n",
            "dense_2 (Dense)              (None, 20)                620       \n",
            "_________________________________________________________________\n",
            "dropout_1 (Dropout)          (None, 20)                0         \n",
            "_________________________________________________________________\n",
            "dense_3 (Dense)              (None, 10)                210       \n",
            "=================================================================\n",
            "Total params: 24,380\n",
            "Trainable params: 24,380\n",
            "Non-trainable params: 0\n",
            "_________________________________________________________________\n"
          ],
          "name": "stdout"
        }
      ]
    },
    {
      "cell_type": "code",
      "metadata": {
        "id": "womwMQtTbtml"
      },
      "source": [
        "from tensorflow.compat.v1.keras.optimizers import RMSprop"
      ],
      "execution_count": 39,
      "outputs": []
    },
    {
      "cell_type": "code",
      "metadata": {
        "colab": {
          "base_uri": "https://localhost:8080/"
        },
        "id": "8ldfACSkVSIg",
        "outputId": "0a2813ec-2620-49f8-fe9f-33f1c47e482d"
      },
      "source": [
        "# Compila e treina o modelo\r\n",
        "# Precisamos informar qual será:\r\n",
        "# Função de erro\r\n",
        "# Algoritmo de backpropagation\r\n",
        "# Dados para Treino (imagens normalizadas e labels categorizadas)\r\n",
        "# Dados para Teste (imagens normalizadas e labels categorizadas)\r\n",
        "# Quantidade de épocas que queremos rodar (sendo 1 época equivalente a analisar TODAS as imagens de treino)\r\n",
        "# Tamanho de cada 'batch'\r\n",
        "#   -> Supondo que temos 100 imagens\r\n",
        "#   -> 100 imagens pode ser muito pesado para processar de uma única vez\r\n",
        "#   -> Portanto, quebramos em 'batches' de 10 imagens, cada, e processamos 10 imagens por vez\r\n",
        "#   -> Geralmente, o tamanho dos batches deve ser potência de 2 (2, 4, 8, 16, 32, 64, 128, ...), para melhorar performance\r\n",
        "\r\n",
        "model.compile(loss='categorical_crossentropy',\r\n",
        "              optimizer=RMSprop(),\r\n",
        "              metrics=['accuracy'])\r\n",
        "\r\n",
        "# Treina o modelo\r\n",
        "\r\n",
        "history = model.fit(x_treino, y_treino,\r\n",
        "                    batch_size=128,\r\n",
        "                    epochs=10,\r\n",
        "                    verbose=1,\r\n",
        "                    validation_data=(x_teste, y_teste))"
      ],
      "execution_count": 40,
      "outputs": [
        {
          "output_type": "stream",
          "text": [
            "Epoch 1/10\n",
            "469/469 [==============================] - 4s 4ms/step - loss: 1.2295 - accuracy: 0.6014 - val_loss: 0.3243 - val_accuracy: 0.9104\n",
            "Epoch 2/10\n",
            "469/469 [==============================] - 2s 3ms/step - loss: 0.5186 - accuracy: 0.8442 - val_loss: 0.2586 - val_accuracy: 0.9242\n",
            "Epoch 3/10\n",
            "469/469 [==============================] - 2s 3ms/step - loss: 0.4124 - accuracy: 0.8781 - val_loss: 0.2239 - val_accuracy: 0.9354\n",
            "Epoch 4/10\n",
            "469/469 [==============================] - 2s 3ms/step - loss: 0.3667 - accuracy: 0.8918 - val_loss: 0.2097 - val_accuracy: 0.9412\n",
            "Epoch 5/10\n",
            "469/469 [==============================] - 2s 3ms/step - loss: 0.3319 - accuracy: 0.9037 - val_loss: 0.1984 - val_accuracy: 0.9435\n",
            "Epoch 6/10\n",
            "469/469 [==============================] - 2s 3ms/step - loss: 0.3169 - accuracy: 0.9082 - val_loss: 0.1868 - val_accuracy: 0.9467\n",
            "Epoch 7/10\n",
            "469/469 [==============================] - 2s 3ms/step - loss: 0.3056 - accuracy: 0.9115 - val_loss: 0.1882 - val_accuracy: 0.9479\n",
            "Epoch 8/10\n",
            "469/469 [==============================] - 2s 3ms/step - loss: 0.2953 - accuracy: 0.9133 - val_loss: 0.1818 - val_accuracy: 0.9501\n",
            "Epoch 9/10\n",
            "469/469 [==============================] - 2s 3ms/step - loss: 0.2814 - accuracy: 0.9188 - val_loss: 0.1779 - val_accuracy: 0.9496\n",
            "Epoch 10/10\n",
            "469/469 [==============================] - 1s 3ms/step - loss: 0.2750 - accuracy: 0.9201 - val_loss: 0.1744 - val_accuracy: 0.9507\n"
          ],
          "name": "stdout"
        }
      ]
    },
    {
      "cell_type": "code",
      "metadata": {
        "colab": {
          "base_uri": "https://localhost:8080/",
          "height": 333
        },
        "id": "6mzAEBVAb5rX",
        "outputId": "715914f7-2dee-4c85-deb8-1587d9cd8661"
      },
      "source": [
        "# Fazendo as Previsoes\r\n",
        "imagem = x_teste[indice].reshape((1, resolucao_total))\r\n",
        "prediction = model.predict(imagem)\r\n",
        "print(\"Previsão: \", prediction)\r\n",
        "\r\n",
        "#Transformar a previsao em algo que conseguimos entender de forma mais facil\r\n",
        "import numpy as np\r\n",
        "prediction_class = np.argmax(prediction, axis=-1)\r\n",
        "print(\"Previsão ajustada: \", prediction_class)\r\n",
        "\r\n",
        "# Recarregamos o MNIST e exibimos a imagem original usando o matplotlib carregado anteriormente\r\n",
        "(x_treino_img, y_treino_img), (x_teste_img, y_teste_img) = mnist.load_data()\r\n",
        "plt.imshow(x_teste_img[indice], cmap=plt.cm.binary)"
      ],
      "execution_count": 44,
      "outputs": [
        {
          "output_type": "stream",
          "text": [
            "Previsão:  [[1.9217860e-06 2.6259751e-03 3.3530339e-03 9.7411919e-01 1.6524236e-05\n",
            "  1.5662052e-02 1.0824349e-07 3.9431211e-04 1.4891234e-03 2.3377009e-03]]\n",
            "Previsão ajustada:  [3]\n"
          ],
          "name": "stdout"
        },
        {
          "output_type": "execute_result",
          "data": {
            "text/plain": [
              "<matplotlib.image.AxesImage at 0x7fd09023fe10>"
            ]
          },
          "metadata": {
            "tags": []
          },
          "execution_count": 44
        },
        {
          "output_type": "display_data",
          "data": {
            "image/png": "[encoded data removed]",
            "text/plain": [
              "<Figure size 432x288 with 1 Axes>"
            ]
          },
          "metadata": {
            "tags": [],
            "needs_background": "light"
          }
        }
      ]
    },
    {
      "cell_type": "code",
      "metadata": {
        "id": "sazQlwW2csoV"
      },
      "source": [
        ""
      ],
      "execution_count": null,
      "outputs": []
    }
  ]
}